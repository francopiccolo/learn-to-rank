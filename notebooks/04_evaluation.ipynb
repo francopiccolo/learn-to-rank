{
 "cells": [
  {
   "cell_type": "code",
   "execution_count": 1,
   "metadata": {},
   "outputs": [],
   "source": [
    "import os\n",
    "os.chdir('/Users/francopiccolo/GitHub/learn-to-rank')"
   ]
  },
  {
   "cell_type": "code",
   "execution_count": 2,
   "metadata": {},
   "outputs": [],
   "source": [
    "import pandas as pd\n",
    "X_test = pd.read_pickle('./data/X_test.pkl')\n",
    "X_val = pd.read_pickle('./data/X_val.pkl')\n",
    "y_test = pd.read_pickle('./data/y_test.pkl')\n",
    "y_val = pd.read_pickle('./data/y_val.pkl')\n",
    "test_query_sizes = pd.read_pickle('./data/test_query_sizes.pkl')\n",
    "val_query_sizes = pd.read_pickle('./data/val_query_sizes.pkl')"
   ]
  },
  {
   "cell_type": "code",
   "execution_count": 3,
   "metadata": {},
   "outputs": [
    {
     "data": {
      "text/plain": [
       "Index(['device_type', 'language', 'nr_guests', 'property_type',\n",
       "       'distance_to_center', 'dorm_price', 'private_price', 'security_score',\n",
       "       'location_score', 'staff_score', 'fun_score', 'cleanliness_score',\n",
       "       'value_for_money_score', 'facilities_score'],\n",
       "      dtype='object')"
      ]
     },
     "execution_count": 3,
     "metadata": {},
     "output_type": "execute_result"
    }
   ],
   "source": [
    "X_test.columns"
   ]
  },
  {
   "cell_type": "code",
   "execution_count": 4,
   "metadata": {},
   "outputs": [],
   "source": [
    "import lightgbm as lgb\n",
    "bst = lgb.Booster(model_file='./data/model.txt')"
   ]
  },
  {
   "cell_type": "code",
   "execution_count": 5,
   "metadata": {},
   "outputs": [],
   "source": [
    "from sklearn.metrics import ndcg_score"
   ]
  },
  {
   "cell_type": "code",
   "execution_count": 6,
   "metadata": {},
   "outputs": [],
   "source": [
    "def calculate_ndcg(test_query_sizes, X_test, y_test):\n",
    "    i = 0\n",
    "    ndcg_cum = 0\n",
    "    queries = 0\n",
    "    for query_size in test_query_sizes:\n",
    "        y_true = y_test[i:i+query_size].values.reshape(1, -1)\n",
    "        if query_size == 1 or y_true.sum() == 0:\n",
    "            ndcg_cum += 1\n",
    "        else:\n",
    "            y_pred = bst.predict(X_test[i:i+query_size]).reshape(1, -1)\n",
    "            ndcg = ndcg_score(y_true, y_pred, k=5)\n",
    "            ndcg_cum += ndcg\n",
    "        queries += 1\n",
    "        i += query_size            \n",
    "    return ndcg_cum, queries"
   ]
  },
  {
   "cell_type": "code",
   "execution_count": null,
   "metadata": {},
   "outputs": [],
   "source": [
    "ndcg_cum_val, queries_val = calculate_ndcg(val_query_sizes, X_val, y_val)\n",
    "ndcg_cum_test, queries_test = calculate_ndcg(test_query_sizes, X_test, y_test)"
   ]
  },
  {
   "cell_type": "code",
   "execution_count": null,
   "metadata": {},
   "outputs": [],
   "source": [
    "ndcg_val = ndcg_cum_val/queries_val\n",
    "ndcg_test = ndcg_cum_test/queries_test"
   ]
  },
  {
   "cell_type": "code",
   "execution_count": null,
   "metadata": {},
   "outputs": [],
   "source": [
    "print(ndcg_val, ndcg_test)"
   ]
  },
  {
   "cell_type": "code",
   "execution_count": null,
   "metadata": {},
   "outputs": [],
   "source": [
    "bst.feature_name()"
   ]
  }
 ],
 "metadata": {
  "kernelspec": {
   "display_name": "Python 3",
   "language": "python",
   "name": "python3"
  },
  "language_info": {
   "codemirror_mode": {
    "name": "ipython",
    "version": 3
   },
   "file_extension": ".py",
   "mimetype": "text/x-python",
   "name": "python",
   "nbconvert_exporter": "python",
   "pygments_lexer": "ipython3",
   "version": "3.6.8"
  }
 },
 "nbformat": 4,
 "nbformat_minor": 4
}
