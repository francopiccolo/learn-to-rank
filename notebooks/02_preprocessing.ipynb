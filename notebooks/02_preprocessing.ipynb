{
 "cells": [
  {
   "cell_type": "code",
   "execution_count": 1,
   "metadata": {},
   "outputs": [],
   "source": [
    "import os\n",
    "os.chdir('/Users/francopiccolo/GitHub/learn-to-rank')"
   ]
  },
  {
   "cell_type": "code",
   "execution_count": 2,
   "metadata": {},
   "outputs": [],
   "source": [
    "import pandas as pd\n",
    "\n",
    "properties = pd.read_csv('./data/properties.csv')\n",
    "reviews = pd.read_csv('./data/reviews.csv')\n",
    "queries = pd.read_csv('./data/queries.csv')\n",
    "interactions = pd.read_csv('./data/interactions.csv')"
   ]
  },
  {
   "cell_type": "code",
   "execution_count": 3,
   "metadata": {},
   "outputs": [],
   "source": [
    "queries['day'] = pd.to_datetime(queries['date_time']).dt.day"
   ]
  },
  {
   "cell_type": "code",
   "execution_count": 4,
   "metadata": {},
   "outputs": [],
   "source": [
    "map_interaction_value = {'VIEW': 0, 'CLICK': 1, 'BOOKING': 2}\n",
    "interactions['interaction_value'] = interactions['interaction'].replace(map_interaction_value)"
   ]
  },
  {
   "cell_type": "code",
   "execution_count": 5,
   "metadata": {},
   "outputs": [],
   "source": [
    "reviews_agg = reviews.groupby('property_id').mean().reset_index()"
   ]
  },
  {
   "cell_type": "code",
   "execution_count": 6,
   "metadata": {},
   "outputs": [],
   "source": [
    "df = interactions.merge(properties, on = 'property_id')\n",
    "df = df.merge(reviews_agg, on= 'property_id')\n",
    "df = df.merge(queries, on='query_id')"
   ]
  },
  {
   "cell_type": "code",
   "execution_count": 7,
   "metadata": {},
   "outputs": [],
   "source": [
    "df = df.sort_values(by=['query_id', 'position'])"
   ]
  },
  {
   "cell_type": "code",
   "execution_count": 8,
   "metadata": {},
   "outputs": [],
   "source": [
    "query_sizes = df.groupby('query_id').size().reset_index().rename({0: 'size'}, axis=1)"
   ]
  },
  {
   "cell_type": "code",
   "execution_count": 9,
   "metadata": {},
   "outputs": [
    {
     "data": {
      "text/plain": [
       "Index(['query_id', 'property_id', 'position', 'interaction', 'dorm_price',\n",
       "       'private_price', 'interaction_value', 'city_id_x', 'country_id',\n",
       "       'property_type', 'distance_to_center', 'security_score',\n",
       "       'location_score', 'staff_score', 'fun_score', 'cleanliness_score',\n",
       "       'value_for_money_score', 'facilities_score', 'device_type', 'language',\n",
       "       'checkin_date', 'checkout_date', 'nr_guests', 'city_id_y', 'date_time',\n",
       "       'day'],\n",
       "      dtype='object')"
      ]
     },
     "execution_count": 9,
     "metadata": {},
     "output_type": "execute_result"
    }
   ],
   "source": [
    "df.columns"
   ]
  },
  {
   "cell_type": "code",
   "execution_count": 10,
   "metadata": {},
   "outputs": [],
   "source": [
    "features = ['device_type', 'language', 'nr_guests',             # query (ignoring checkin/out, time)\n",
    "            'property_type', 'distance_to_center',              # property\n",
    "            'dorm_price', 'private_price',                      # interaction\n",
    "            'security_score', 'location_score', 'staff_score',  # reviews (ignoring date_stayed, age_group, trip_type)\n",
    "            'fun_score', 'cleanliness_score',                   \n",
    "            'value_for_money_score', 'facilities_score']\n",
    "            \n",
    "categorical_features = ['device_type', 'language', 'property_type']\n",
    "\n",
    "for feature in categorical_features:\n",
    "    df[feature + '_name'] = df[feature]\n",
    "    df[feature] = df[feature].astype('category').cat.codes\n",
    "\n",
    "label = 'interaction_value'"
   ]
  },
  {
   "cell_type": "code",
   "execution_count": 11,
   "metadata": {},
   "outputs": [],
   "source": [
    "train_mask = df['day'] < 25\n",
    "val_mask = (df['day'] >= 25) & (df['day'] < 28)\n",
    "test_mask = (df['day'] >= 28) & (df['day'] < 31)\n",
    "train_df = df[train_mask]\n",
    "val_df = df[val_mask]\n",
    "test_df = df[test_mask]\n",
    "train_query_sizes = query_sizes['size'][query_sizes['query_id'].isin(train_df['query_id'])]\n",
    "val_query_sizes = query_sizes['size'][query_sizes['query_id'].isin(val_df['query_id'])]\n",
    "test_query_sizes = query_sizes['size'][query_sizes['query_id'].isin(test_df['query_id'])]"
   ]
  },
  {
   "cell_type": "code",
   "execution_count": 12,
   "metadata": {},
   "outputs": [],
   "source": [
    "train_df[features].to_pickle('./data/X_train.pkl')\n",
    "val_df[features].to_pickle('./data/X_val.pkl')\n",
    "test_df[features].to_pickle('./data/X_test.pkl')\n",
    "train_df[label].to_pickle('./data/y_train.pkl')\n",
    "val_df[label].to_pickle('./data/y_val.pkl')\n",
    "test_df[label].to_pickle('./data/y_test.pkl')\n",
    "\n",
    "train_query_sizes.to_pickle('./data/train_query_sizes.pkl')\n",
    "val_query_sizes.to_pickle('./data/val_query_sizes.pkl')\n",
    "test_query_sizes.to_pickle('./data/test_query_sizes.pkl')"
   ]
  },
  {
   "cell_type": "code",
   "execution_count": 13,
   "metadata": {},
   "outputs": [],
   "source": [
    "# backup -> dataset api\n",
    "# import lightgbm as lgb\n",
    "# train_ds = lgb.Dataset(train_df[features], label=train_df[label], categorical_feature=categorical_features, group=train_query_sizes)\n",
    "# val_ds = lgb.Dataset(val_df[features], label=val_df[label], categorical_feature=categorical_features, group=val_query_sizes, reference=train_ds)\n",
    "# train_ds.save_binary('./data/train_ds.bin')\n",
    "# val_ds.save_binary('./data/val_ds.bin')"
   ]
  }
 ],
 "metadata": {
  "kernelspec": {
   "display_name": "Python 3",
   "language": "python",
   "name": "python3"
  },
  "language_info": {
   "codemirror_mode": {
    "name": "ipython",
    "version": 3
   },
   "file_extension": ".py",
   "mimetype": "text/x-python",
   "name": "python",
   "nbconvert_exporter": "python",
   "pygments_lexer": "ipython3",
   "version": "3.6.8"
  }
 },
 "nbformat": 4,
 "nbformat_minor": 4
}
