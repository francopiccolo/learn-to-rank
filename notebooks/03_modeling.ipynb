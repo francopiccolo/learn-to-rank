{
 "cells": [
  {
   "cell_type": "code",
   "execution_count": 7,
   "metadata": {},
   "outputs": [],
   "source": [
    "import os\n",
    "os.chdir('/Users/francopiccolo/GitHub/learn-to-rank')"
   ]
  },
  {
   "cell_type": "code",
   "execution_count": 8,
   "metadata": {},
   "outputs": [],
   "source": [
    "import lightgbm as lgb"
   ]
  },
  {
   "cell_type": "code",
   "execution_count": 12,
   "metadata": {},
   "outputs": [],
   "source": [
    "train_ds = lgb.Dataset('./data/train_ds.bin')\n",
    "val_ds = lgb.Dataset('./data/val_ds.bin')\n"
   ]
  },
  {
   "cell_type": "code",
   "execution_count": 10,
   "metadata": {},
   "outputs": [],
   "source": [
    "param = {'objective': 'lambdarank',\n",
    "         'metric': 'ndcg'}"
   ]
  },
  {
   "cell_type": "code",
   "execution_count": 13,
   "metadata": {},
   "outputs": [
    {
     "name": "stdout",
     "output_type": "stream",
     "text": [
      "[LightGBM] [Warning] Auto-choosing row-wise multi-threading, the overhead of testing was 0.317193 seconds.\n",
      "You can set `force_row_wise=true` to remove the overhead.\n",
      "And if memory is not enough, you can set `force_col_wise=true`.\n",
      "[LightGBM] [Info] Total Bins 4041\n",
      "[LightGBM] [Info] Number of data points in the train set: 4404529, number of used features: 17\n",
      "[1]\tvalid_0's ndcg@1: 0.462951\tvalid_0's ndcg@2: 0.499878\tvalid_0's ndcg@3: 0.534065\tvalid_0's ndcg@4: 0.563419\tvalid_0's ndcg@5: 0.586883\n",
      "Training until validation scores don't improve for 5 rounds\n",
      "[2]\tvalid_0's ndcg@1: 0.472643\tvalid_0's ndcg@2: 0.508607\tvalid_0's ndcg@3: 0.543409\tvalid_0's ndcg@4: 0.572107\tvalid_0's ndcg@5: 0.595699\n",
      "[3]\tvalid_0's ndcg@1: 0.477688\tvalid_0's ndcg@2: 0.512847\tvalid_0's ndcg@3: 0.548142\tvalid_0's ndcg@4: 0.576186\tvalid_0's ndcg@5: 0.600057\n",
      "[4]\tvalid_0's ndcg@1: 0.479593\tvalid_0's ndcg@2: 0.515041\tvalid_0's ndcg@3: 0.549837\tvalid_0's ndcg@4: 0.578867\tvalid_0's ndcg@5: 0.602777\n",
      "[5]\tvalid_0's ndcg@1: 0.482193\tvalid_0's ndcg@2: 0.51944\tvalid_0's ndcg@3: 0.553621\tvalid_0's ndcg@4: 0.582268\tvalid_0's ndcg@5: 0.606127\n",
      "[6]\tvalid_0's ndcg@1: 0.484185\tvalid_0's ndcg@2: 0.522161\tvalid_0's ndcg@3: 0.555995\tvalid_0's ndcg@4: 0.585299\tvalid_0's ndcg@5: 0.608645\n",
      "[7]\tvalid_0's ndcg@1: 0.486657\tvalid_0's ndcg@2: 0.524299\tvalid_0's ndcg@3: 0.558288\tvalid_0's ndcg@4: 0.587598\tvalid_0's ndcg@5: 0.61094\n",
      "[8]\tvalid_0's ndcg@1: 0.489021\tvalid_0's ndcg@2: 0.5261\tvalid_0's ndcg@3: 0.56049\tvalid_0's ndcg@4: 0.589205\tvalid_0's ndcg@5: 0.612324\n",
      "[9]\tvalid_0's ndcg@1: 0.489656\tvalid_0's ndcg@2: 0.527674\tvalid_0's ndcg@3: 0.561749\tvalid_0's ndcg@4: 0.589818\tvalid_0's ndcg@5: 0.613289\n",
      "[10]\tvalid_0's ndcg@1: 0.490906\tvalid_0's ndcg@2: 0.529648\tvalid_0's ndcg@3: 0.56394\tvalid_0's ndcg@4: 0.592113\tvalid_0's ndcg@5: 0.615318\n",
      "[11]\tvalid_0's ndcg@1: 0.491176\tvalid_0's ndcg@2: 0.529492\tvalid_0's ndcg@3: 0.564231\tvalid_0's ndcg@4: 0.59269\tvalid_0's ndcg@5: 0.615768\n",
      "[12]\tvalid_0's ndcg@1: 0.492844\tvalid_0's ndcg@2: 0.531296\tvalid_0's ndcg@3: 0.565715\tvalid_0's ndcg@4: 0.594207\tvalid_0's ndcg@5: 0.616952\n",
      "[13]\tvalid_0's ndcg@1: 0.492729\tvalid_0's ndcg@2: 0.531634\tvalid_0's ndcg@3: 0.565786\tvalid_0's ndcg@4: 0.59453\tvalid_0's ndcg@5: 0.6171\n",
      "[14]\tvalid_0's ndcg@1: 0.493303\tvalid_0's ndcg@2: 0.532384\tvalid_0's ndcg@3: 0.566806\tvalid_0's ndcg@4: 0.594632\tvalid_0's ndcg@5: 0.618029\n",
      "[15]\tvalid_0's ndcg@1: 0.493533\tvalid_0's ndcg@2: 0.53251\tvalid_0's ndcg@3: 0.567485\tvalid_0's ndcg@4: 0.59561\tvalid_0's ndcg@5: 0.618615\n",
      "[16]\tvalid_0's ndcg@1: 0.494283\tvalid_0's ndcg@2: 0.5332\tvalid_0's ndcg@3: 0.567788\tvalid_0's ndcg@4: 0.596243\tvalid_0's ndcg@5: 0.618933\n",
      "[17]\tvalid_0's ndcg@1: 0.495066\tvalid_0's ndcg@2: 0.53328\tvalid_0's ndcg@3: 0.568166\tvalid_0's ndcg@4: 0.596536\tvalid_0's ndcg@5: 0.619136\n",
      "[18]\tvalid_0's ndcg@1: 0.493952\tvalid_0's ndcg@2: 0.532957\tvalid_0's ndcg@3: 0.567913\tvalid_0's ndcg@4: 0.596694\tvalid_0's ndcg@5: 0.619415\n",
      "[19]\tvalid_0's ndcg@1: 0.493837\tvalid_0's ndcg@2: 0.532787\tvalid_0's ndcg@3: 0.568074\tvalid_0's ndcg@4: 0.596934\tvalid_0's ndcg@5: 0.619426\n",
      "[20]\tvalid_0's ndcg@1: 0.49431\tvalid_0's ndcg@2: 0.533218\tvalid_0's ndcg@3: 0.568243\tvalid_0's ndcg@4: 0.597027\tvalid_0's ndcg@5: 0.619883\n",
      "[21]\tvalid_0's ndcg@1: 0.494188\tvalid_0's ndcg@2: 0.533552\tvalid_0's ndcg@3: 0.56816\tvalid_0's ndcg@4: 0.597054\tvalid_0's ndcg@5: 0.619949\n",
      "[22]\tvalid_0's ndcg@1: 0.494094\tvalid_0's ndcg@2: 0.534007\tvalid_0's ndcg@3: 0.568544\tvalid_0's ndcg@4: 0.597148\tvalid_0's ndcg@5: 0.620291\n",
      "Early stopping, best iteration is:\n",
      "[17]\tvalid_0's ndcg@1: 0.495066\tvalid_0's ndcg@2: 0.53328\tvalid_0's ndcg@3: 0.568166\tvalid_0's ndcg@4: 0.596536\tvalid_0's ndcg@5: 0.619136\n"
     ]
    }
   ],
   "source": [
    "bst = lgb.train(param, train_ds, valid_sets=[val_ds], early_stopping_rounds=5)"
   ]
  },
  {
   "cell_type": "code",
   "execution_count": null,
   "metadata": {},
   "outputs": [],
   "source": [
    "bst.save_model('model.txt', num_iteration=bst.best_iteration)\n",
    "bst = lgb.Booster(model_file='model.txt')"
   ]
  },
  {
   "cell_type": "code",
   "execution_count": 14,
   "metadata": {},
   "outputs": [
    {
     "ename": "TypeError",
     "evalue": "Cannot use Dataset instance for prediction, please use raw data instead",
     "output_type": "error",
     "traceback": [
      "\u001b[0;31m---------------------------------------------------------------------------\u001b[0m",
      "\u001b[0;31mTypeError\u001b[0m                                 Traceback (most recent call last)",
      "\u001b[0;32m<ipython-input-14-27d8c7aea049>\u001b[0m in \u001b[0;36m<module>\u001b[0;34m\u001b[0m\n\u001b[0;32m----> 1\u001b[0;31m \u001b[0mypred\u001b[0m \u001b[0;34m=\u001b[0m \u001b[0mbst\u001b[0m\u001b[0;34m.\u001b[0m\u001b[0mpredict\u001b[0m\u001b[0;34m(\u001b[0m\u001b[0mtest_ds\u001b[0m\u001b[0;34m)\u001b[0m \u001b[0;31m# num_iteration=bst.best_iteration\u001b[0m\u001b[0;34m\u001b[0m\u001b[0;34m\u001b[0m\u001b[0m\n\u001b[0m",
      "\u001b[0;32m~/GitHub/learn-to-rank/venv/lib/python3.6/site-packages/lightgbm/basic.py\u001b[0m in \u001b[0;36mpredict\u001b[0;34m(self, data, start_iteration, num_iteration, raw_score, pred_leaf, pred_contrib, data_has_header, is_reshape, **kwargs)\u001b[0m\n\u001b[1;32m   2869\u001b[0m         return predictor.predict(data, start_iteration, num_iteration,\n\u001b[1;32m   2870\u001b[0m                                  \u001b[0mraw_score\u001b[0m\u001b[0;34m,\u001b[0m \u001b[0mpred_leaf\u001b[0m\u001b[0;34m,\u001b[0m \u001b[0mpred_contrib\u001b[0m\u001b[0;34m,\u001b[0m\u001b[0;34m\u001b[0m\u001b[0;34m\u001b[0m\u001b[0m\n\u001b[0;32m-> 2871\u001b[0;31m                                  data_has_header, is_reshape)\n\u001b[0m\u001b[1;32m   2872\u001b[0m \u001b[0;34m\u001b[0m\u001b[0m\n\u001b[1;32m   2873\u001b[0m     \u001b[0;32mdef\u001b[0m \u001b[0mrefit\u001b[0m\u001b[0;34m(\u001b[0m\u001b[0mself\u001b[0m\u001b[0;34m,\u001b[0m \u001b[0mdata\u001b[0m\u001b[0;34m,\u001b[0m \u001b[0mlabel\u001b[0m\u001b[0;34m,\u001b[0m \u001b[0mdecay_rate\u001b[0m\u001b[0;34m=\u001b[0m\u001b[0;36m0.9\u001b[0m\u001b[0;34m,\u001b[0m \u001b[0;34m**\u001b[0m\u001b[0mkwargs\u001b[0m\u001b[0;34m)\u001b[0m\u001b[0;34m:\u001b[0m\u001b[0;34m\u001b[0m\u001b[0;34m\u001b[0m\u001b[0m\n",
      "\u001b[0;32m~/GitHub/learn-to-rank/venv/lib/python3.6/site-packages/lightgbm/basic.py\u001b[0m in \u001b[0;36mpredict\u001b[0;34m(self, data, start_iteration, num_iteration, raw_score, pred_leaf, pred_contrib, data_has_header, is_reshape)\u001b[0m\n\u001b[1;32m    553\u001b[0m         \"\"\"\n\u001b[1;32m    554\u001b[0m         \u001b[0;32mif\u001b[0m \u001b[0misinstance\u001b[0m\u001b[0;34m(\u001b[0m\u001b[0mdata\u001b[0m\u001b[0;34m,\u001b[0m \u001b[0mDataset\u001b[0m\u001b[0;34m)\u001b[0m\u001b[0;34m:\u001b[0m\u001b[0;34m\u001b[0m\u001b[0;34m\u001b[0m\u001b[0m\n\u001b[0;32m--> 555\u001b[0;31m             \u001b[0;32mraise\u001b[0m \u001b[0mTypeError\u001b[0m\u001b[0;34m(\u001b[0m\u001b[0;34m\"Cannot use Dataset instance for prediction, please use raw data instead\"\u001b[0m\u001b[0;34m)\u001b[0m\u001b[0;34m\u001b[0m\u001b[0;34m\u001b[0m\u001b[0m\n\u001b[0m\u001b[1;32m    556\u001b[0m         \u001b[0mdata\u001b[0m \u001b[0;34m=\u001b[0m \u001b[0m_data_from_pandas\u001b[0m\u001b[0;34m(\u001b[0m\u001b[0mdata\u001b[0m\u001b[0;34m,\u001b[0m \u001b[0;32mNone\u001b[0m\u001b[0;34m,\u001b[0m \u001b[0;32mNone\u001b[0m\u001b[0;34m,\u001b[0m \u001b[0mself\u001b[0m\u001b[0;34m.\u001b[0m\u001b[0mpandas_categorical\u001b[0m\u001b[0;34m)\u001b[0m\u001b[0;34m[\u001b[0m\u001b[0;36m0\u001b[0m\u001b[0;34m]\u001b[0m\u001b[0;34m\u001b[0m\u001b[0;34m\u001b[0m\u001b[0m\n\u001b[1;32m    557\u001b[0m         \u001b[0mpredict_type\u001b[0m \u001b[0;34m=\u001b[0m \u001b[0mC_API_PREDICT_NORMAL\u001b[0m\u001b[0;34m\u001b[0m\u001b[0;34m\u001b[0m\u001b[0m\n",
      "\u001b[0;31mTypeError\u001b[0m: Cannot use Dataset instance for prediction, please use raw data instead"
     ]
    }
   ],
   "source": [
    "ypred = bst.predict(test_ds) # num_iteration=bst.best_iteration"
   ]
  },
  {
   "cell_type": "code",
   "execution_count": null,
   "metadata": {},
   "outputs": [],
   "source": []
  }
 ],
 "metadata": {
  "kernelspec": {
   "display_name": "Python 3",
   "language": "python",
   "name": "python3"
  },
  "language_info": {
   "codemirror_mode": {
    "name": "ipython",
    "version": 3
   },
   "file_extension": ".py",
   "mimetype": "text/x-python",
   "name": "python",
   "nbconvert_exporter": "python",
   "pygments_lexer": "ipython3",
   "version": "3.6.8"
  }
 },
 "nbformat": 4,
 "nbformat_minor": 4
}
