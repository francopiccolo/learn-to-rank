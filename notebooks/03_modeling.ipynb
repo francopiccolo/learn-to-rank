{
 "cells": [
  {
   "cell_type": "code",
   "execution_count": 1,
   "metadata": {},
   "outputs": [],
   "source": [
    "import os\n",
    "os.chdir('/Users/francopiccolo/GitHub/learn-to-rank')"
   ]
  },
  {
   "cell_type": "code",
   "execution_count": 2,
   "metadata": {},
   "outputs": [],
   "source": [
    "import lightgbm as lgb"
   ]
  },
  {
   "cell_type": "code",
   "execution_count": 3,
   "metadata": {},
   "outputs": [],
   "source": [
    "import pandas as pd\n",
    "X_train = pd.read_pickle('./data/X_train.pkl')\n",
    "X_val = pd.read_pickle('./data/X_val.pkl')\n",
    "\n",
    "y_train = pd.read_pickle('./data/y_train.pkl')\n",
    "y_val = pd.read_pickle('./data/y_val.pkl')\n",
    "\n",
    "train_query_sizes = pd.read_pickle('./data/train_query_sizes.pkl')\n",
    "val_query_sizes = pd.read_pickle('./data/val_query_sizes.pkl')"
   ]
  },
  {
   "cell_type": "code",
   "execution_count": 4,
   "metadata": {},
   "outputs": [
    {
     "name": "stdout",
     "output_type": "stream",
     "text": [
      "[1]\tvalid_0's ndcg@1: 0.238506\tvalid_0's ndcg@3: 0.383332\tvalid_0's ndcg@5: 0.452466\tvalid_0's ndcg@10: 0.525635\n",
      "Training until validation scores don't improve for 10 rounds\n",
      "[2]\tvalid_0's ndcg@1: 0.23985\tvalid_0's ndcg@3: 0.382761\tvalid_0's ndcg@5: 0.452402\tvalid_0's ndcg@10: 0.526926\n",
      "[3]\tvalid_0's ndcg@1: 0.242045\tvalid_0's ndcg@3: 0.386567\tvalid_0's ndcg@5: 0.454786\tvalid_0's ndcg@10: 0.5292\n",
      "[4]\tvalid_0's ndcg@1: 0.244828\tvalid_0's ndcg@3: 0.388128\tvalid_0's ndcg@5: 0.456775\tvalid_0's ndcg@10: 0.531296\n",
      "[5]\tvalid_0's ndcg@1: 0.244794\tvalid_0's ndcg@3: 0.38941\tvalid_0's ndcg@5: 0.457301\tvalid_0's ndcg@10: 0.53161\n",
      "[6]\tvalid_0's ndcg@1: 0.247422\tvalid_0's ndcg@3: 0.391284\tvalid_0's ndcg@5: 0.46062\tvalid_0's ndcg@10: 0.534212\n",
      "[7]\tvalid_0's ndcg@1: 0.249448\tvalid_0's ndcg@3: 0.394309\tvalid_0's ndcg@5: 0.462685\tvalid_0's ndcg@10: 0.535855\n",
      "[8]\tvalid_0's ndcg@1: 0.251035\tvalid_0's ndcg@3: 0.396445\tvalid_0's ndcg@5: 0.464791\tvalid_0's ndcg@10: 0.537354\n",
      "[9]\tvalid_0's ndcg@1: 0.251758\tvalid_0's ndcg@3: 0.396984\tvalid_0's ndcg@5: 0.465287\tvalid_0's ndcg@10: 0.53815\n",
      "[10]\tvalid_0's ndcg@1: 0.252805\tvalid_0's ndcg@3: 0.398331\tvalid_0's ndcg@5: 0.466897\tvalid_0's ndcg@10: 0.539232\n",
      "[11]\tvalid_0's ndcg@1: 0.25396\tvalid_0's ndcg@3: 0.400184\tvalid_0's ndcg@5: 0.468488\tvalid_0's ndcg@10: 0.540379\n",
      "[12]\tvalid_0's ndcg@1: 0.255175\tvalid_0's ndcg@3: 0.401169\tvalid_0's ndcg@5: 0.469523\tvalid_0's ndcg@10: 0.541221\n",
      "[13]\tvalid_0's ndcg@1: 0.255648\tvalid_0's ndcg@3: 0.402198\tvalid_0's ndcg@5: 0.470221\tvalid_0's ndcg@10: 0.541915\n",
      "[14]\tvalid_0's ndcg@1: 0.255682\tvalid_0's ndcg@3: 0.402993\tvalid_0's ndcg@5: 0.471218\tvalid_0's ndcg@10: 0.542507\n",
      "[15]\tvalid_0's ndcg@1: 0.255932\tvalid_0's ndcg@3: 0.403863\tvalid_0's ndcg@5: 0.471848\tvalid_0's ndcg@10: 0.542735\n",
      "[16]\tvalid_0's ndcg@1: 0.256992\tvalid_0's ndcg@3: 0.405229\tvalid_0's ndcg@5: 0.473295\tvalid_0's ndcg@10: 0.543739\n",
      "[17]\tvalid_0's ndcg@1: 0.258113\tvalid_0's ndcg@3: 0.405905\tvalid_0's ndcg@5: 0.473654\tvalid_0's ndcg@10: 0.544275\n",
      "[18]\tvalid_0's ndcg@1: 0.259464\tvalid_0's ndcg@3: 0.407157\tvalid_0's ndcg@5: 0.474915\tvalid_0's ndcg@10: 0.545241\n",
      "[19]\tvalid_0's ndcg@1: 0.258302\tvalid_0's ndcg@3: 0.407081\tvalid_0's ndcg@5: 0.474696\tvalid_0's ndcg@10: 0.54489\n",
      "[20]\tvalid_0's ndcg@1: 0.259072\tvalid_0's ndcg@3: 0.407548\tvalid_0's ndcg@5: 0.475233\tvalid_0's ndcg@10: 0.545399\n",
      "[21]\tvalid_0's ndcg@1: 0.258863\tvalid_0's ndcg@3: 0.407778\tvalid_0's ndcg@5: 0.475567\tvalid_0's ndcg@10: 0.545681\n",
      "[22]\tvalid_0's ndcg@1: 0.260086\tvalid_0's ndcg@3: 0.408646\tvalid_0's ndcg@5: 0.476334\tvalid_0's ndcg@10: 0.546263\n",
      "[23]\tvalid_0's ndcg@1: 0.260004\tvalid_0's ndcg@3: 0.409197\tvalid_0's ndcg@5: 0.47645\tvalid_0's ndcg@10: 0.546511\n",
      "[24]\tvalid_0's ndcg@1: 0.260977\tvalid_0's ndcg@3: 0.409695\tvalid_0's ndcg@5: 0.476961\tvalid_0's ndcg@10: 0.546878\n",
      "[25]\tvalid_0's ndcg@1: 0.261349\tvalid_0's ndcg@3: 0.410148\tvalid_0's ndcg@5: 0.477418\tvalid_0's ndcg@10: 0.547277\n",
      "[26]\tvalid_0's ndcg@1: 0.26199\tvalid_0's ndcg@3: 0.410855\tvalid_0's ndcg@5: 0.477775\tvalid_0's ndcg@10: 0.547695\n",
      "[27]\tvalid_0's ndcg@1: 0.261794\tvalid_0's ndcg@3: 0.411095\tvalid_0's ndcg@5: 0.478021\tvalid_0's ndcg@10: 0.547688\n",
      "[28]\tvalid_0's ndcg@1: 0.262139\tvalid_0's ndcg@3: 0.411173\tvalid_0's ndcg@5: 0.478153\tvalid_0's ndcg@10: 0.547872\n",
      "[29]\tvalid_0's ndcg@1: 0.262362\tvalid_0's ndcg@3: 0.411033\tvalid_0's ndcg@5: 0.478376\tvalid_0's ndcg@10: 0.548036\n",
      "[30]\tvalid_0's ndcg@1: 0.262118\tvalid_0's ndcg@3: 0.410836\tvalid_0's ndcg@5: 0.478467\tvalid_0's ndcg@10: 0.547926\n",
      "[31]\tvalid_0's ndcg@1: 0.262112\tvalid_0's ndcg@3: 0.411311\tvalid_0's ndcg@5: 0.478833\tvalid_0's ndcg@10: 0.54811\n",
      "[32]\tvalid_0's ndcg@1: 0.263483\tvalid_0's ndcg@3: 0.412354\tvalid_0's ndcg@5: 0.479484\tvalid_0's ndcg@10: 0.548796\n",
      "[33]\tvalid_0's ndcg@1: 0.263523\tvalid_0's ndcg@3: 0.412467\tvalid_0's ndcg@5: 0.479753\tvalid_0's ndcg@10: 0.548832\n",
      "[34]\tvalid_0's ndcg@1: 0.263821\tvalid_0's ndcg@3: 0.412726\tvalid_0's ndcg@5: 0.479893\tvalid_0's ndcg@10: 0.548954\n",
      "[35]\tvalid_0's ndcg@1: 0.263766\tvalid_0's ndcg@3: 0.412542\tvalid_0's ndcg@5: 0.480006\tvalid_0's ndcg@10: 0.549016\n",
      "[36]\tvalid_0's ndcg@1: 0.263733\tvalid_0's ndcg@3: 0.412551\tvalid_0's ndcg@5: 0.479949\tvalid_0's ndcg@10: 0.549081\n",
      "[37]\tvalid_0's ndcg@1: 0.263895\tvalid_0's ndcg@3: 0.41262\tvalid_0's ndcg@5: 0.480161\tvalid_0's ndcg@10: 0.549228\n",
      "[38]\tvalid_0's ndcg@1: 0.263604\tvalid_0's ndcg@3: 0.412941\tvalid_0's ndcg@5: 0.480167\tvalid_0's ndcg@10: 0.549212\n",
      "[39]\tvalid_0's ndcg@1: 0.263854\tvalid_0's ndcg@3: 0.413224\tvalid_0's ndcg@5: 0.48051\tvalid_0's ndcg@10: 0.549538\n",
      "[40]\tvalid_0's ndcg@1: 0.264023\tvalid_0's ndcg@3: 0.413421\tvalid_0's ndcg@5: 0.480703\tvalid_0's ndcg@10: 0.549687\n",
      "[41]\tvalid_0's ndcg@1: 0.26453\tvalid_0's ndcg@3: 0.413694\tvalid_0's ndcg@5: 0.481112\tvalid_0's ndcg@10: 0.549958\n",
      "[42]\tvalid_0's ndcg@1: 0.264442\tvalid_0's ndcg@3: 0.413741\tvalid_0's ndcg@5: 0.481184\tvalid_0's ndcg@10: 0.550001\n",
      "[43]\tvalid_0's ndcg@1: 0.264665\tvalid_0's ndcg@3: 0.413837\tvalid_0's ndcg@5: 0.481316\tvalid_0's ndcg@10: 0.55011\n",
      "[44]\tvalid_0's ndcg@1: 0.264644\tvalid_0's ndcg@3: 0.413944\tvalid_0's ndcg@5: 0.481357\tvalid_0's ndcg@10: 0.550069\n",
      "[45]\tvalid_0's ndcg@1: 0.264503\tvalid_0's ndcg@3: 0.413986\tvalid_0's ndcg@5: 0.481395\tvalid_0's ndcg@10: 0.550103\n",
      "[46]\tvalid_0's ndcg@1: 0.264705\tvalid_0's ndcg@3: 0.414172\tvalid_0's ndcg@5: 0.481546\tvalid_0's ndcg@10: 0.550188\n",
      "[47]\tvalid_0's ndcg@1: 0.264948\tvalid_0's ndcg@3: 0.414269\tvalid_0's ndcg@5: 0.481689\tvalid_0's ndcg@10: 0.550331\n",
      "[48]\tvalid_0's ndcg@1: 0.265212\tvalid_0's ndcg@3: 0.414355\tvalid_0's ndcg@5: 0.481865\tvalid_0's ndcg@10: 0.550415\n",
      "[49]\tvalid_0's ndcg@1: 0.26507\tvalid_0's ndcg@3: 0.414385\tvalid_0's ndcg@5: 0.481893\tvalid_0's ndcg@10: 0.550369\n",
      "[50]\tvalid_0's ndcg@1: 0.265354\tvalid_0's ndcg@3: 0.414457\tvalid_0's ndcg@5: 0.482046\tvalid_0's ndcg@10: 0.550503\n",
      "[51]\tvalid_0's ndcg@1: 0.264969\tvalid_0's ndcg@3: 0.414248\tvalid_0's ndcg@5: 0.481959\tvalid_0's ndcg@10: 0.550394\n",
      "[52]\tvalid_0's ndcg@1: 0.265205\tvalid_0's ndcg@3: 0.414333\tvalid_0's ndcg@5: 0.482049\tvalid_0's ndcg@10: 0.550533\n",
      "[53]\tvalid_0's ndcg@1: 0.265387\tvalid_0's ndcg@3: 0.414518\tvalid_0's ndcg@5: 0.482231\tvalid_0's ndcg@10: 0.550668\n",
      "[54]\tvalid_0's ndcg@1: 0.265428\tvalid_0's ndcg@3: 0.414544\tvalid_0's ndcg@5: 0.482238\tvalid_0's ndcg@10: 0.550706\n",
      "[55]\tvalid_0's ndcg@1: 0.265124\tvalid_0's ndcg@3: 0.414383\tvalid_0's ndcg@5: 0.482073\tvalid_0's ndcg@10: 0.550544\n",
      "[56]\tvalid_0's ndcg@1: 0.265063\tvalid_0's ndcg@3: 0.414487\tvalid_0's ndcg@5: 0.482158\tvalid_0's ndcg@10: 0.550598\n",
      "[57]\tvalid_0's ndcg@1: 0.265144\tvalid_0's ndcg@3: 0.414623\tvalid_0's ndcg@5: 0.482206\tvalid_0's ndcg@10: 0.550677\n",
      "[58]\tvalid_0's ndcg@1: 0.26536\tvalid_0's ndcg@3: 0.41463\tvalid_0's ndcg@5: 0.482268\tvalid_0's ndcg@10: 0.550767\n",
      "[59]\tvalid_0's ndcg@1: 0.265462\tvalid_0's ndcg@3: 0.414605\tvalid_0's ndcg@5: 0.482295\tvalid_0's ndcg@10: 0.550859\n",
      "[60]\tvalid_0's ndcg@1: 0.265604\tvalid_0's ndcg@3: 0.414681\tvalid_0's ndcg@5: 0.482432\tvalid_0's ndcg@10: 0.550946\n",
      "[61]\tvalid_0's ndcg@1: 0.265583\tvalid_0's ndcg@3: 0.414676\tvalid_0's ndcg@5: 0.482454\tvalid_0's ndcg@10: 0.550965\n",
      "[62]\tvalid_0's ndcg@1: 0.265604\tvalid_0's ndcg@3: 0.414622\tvalid_0's ndcg@5: 0.482461\tvalid_0's ndcg@10: 0.55096\n",
      "[63]\tvalid_0's ndcg@1: 0.265637\tvalid_0's ndcg@3: 0.414661\tvalid_0's ndcg@5: 0.48246\tvalid_0's ndcg@10: 0.550942\n",
      "[64]\tvalid_0's ndcg@1: 0.265455\tvalid_0's ndcg@3: 0.414613\tvalid_0's ndcg@5: 0.482424\tvalid_0's ndcg@10: 0.550924\n",
      "[65]\tvalid_0's ndcg@1: 0.265556\tvalid_0's ndcg@3: 0.414622\tvalid_0's ndcg@5: 0.482397\tvalid_0's ndcg@10: 0.55094\n",
      "[66]\tvalid_0's ndcg@1: 0.265414\tvalid_0's ndcg@3: 0.414675\tvalid_0's ndcg@5: 0.482382\tvalid_0's ndcg@10: 0.550898\n",
      "[67]\tvalid_0's ndcg@1: 0.265381\tvalid_0's ndcg@3: 0.41461\tvalid_0's ndcg@5: 0.48239\tvalid_0's ndcg@10: 0.550883\n",
      "[68]\tvalid_0's ndcg@1: 0.265239\tvalid_0's ndcg@3: 0.414552\tvalid_0's ndcg@5: 0.482352\tvalid_0's ndcg@10: 0.550858\n",
      "[69]\tvalid_0's ndcg@1: 0.265192\tvalid_0's ndcg@3: 0.414562\tvalid_0's ndcg@5: 0.482333\tvalid_0's ndcg@10: 0.550856\n",
      "[70]\tvalid_0's ndcg@1: 0.265151\tvalid_0's ndcg@3: 0.41459\tvalid_0's ndcg@5: 0.48237\tvalid_0's ndcg@10: 0.550862\n",
      "Early stopping, best iteration is:\n",
      "[60]\tvalid_0's ndcg@1: 0.265604\tvalid_0's ndcg@3: 0.414681\tvalid_0's ndcg@5: 0.482432\tvalid_0's ndcg@10: 0.550946\n"
     ]
    },
    {
     "data": {
      "text/plain": [
       "LGBMRanker(random_state=1)"
      ]
     },
     "execution_count": 4,
     "metadata": {},
     "output_type": "execute_result"
    }
   ],
   "source": [
    "gbm = lgb.LGBMRanker(random_state=1)\n",
    "gbm.fit(X_train, y_train, group=train_query_sizes,\n",
    "        eval_set=[(X_val, y_val)], eval_group=[val_query_sizes], eval_at = [1, 3, 5, 10],\n",
    "        early_stopping_rounds=10, verbose=True, \n",
    "        callbacks=[lgb.reset_parameter(learning_rate=lambda x: 0.95 ** x * 0.1)])"
   ]
  },
  {
   "cell_type": "code",
   "execution_count": 9,
   "metadata": {},
   "outputs": [
    {
     "data": {
      "text/html": [
       "<div>\n",
       "<style scoped>\n",
       "    .dataframe tbody tr th:only-of-type {\n",
       "        vertical-align: middle;\n",
       "    }\n",
       "\n",
       "    .dataframe tbody tr th {\n",
       "        vertical-align: top;\n",
       "    }\n",
       "\n",
       "    .dataframe thead th {\n",
       "        text-align: right;\n",
       "    }\n",
       "</style>\n",
       "<table border=\"1\" class=\"dataframe\">\n",
       "  <thead>\n",
       "    <tr style=\"text-align: right;\">\n",
       "      <th></th>\n",
       "      <th>valid_0</th>\n",
       "    </tr>\n",
       "  </thead>\n",
       "  <tbody>\n",
       "    <tr>\n",
       "      <th>ndcg@1</th>\n",
       "      <td>0.265604</td>\n",
       "    </tr>\n",
       "    <tr>\n",
       "      <th>ndcg@10</th>\n",
       "      <td>0.550946</td>\n",
       "    </tr>\n",
       "    <tr>\n",
       "      <th>ndcg@3</th>\n",
       "      <td>0.414681</td>\n",
       "    </tr>\n",
       "    <tr>\n",
       "      <th>ndcg@5</th>\n",
       "      <td>0.482432</td>\n",
       "    </tr>\n",
       "  </tbody>\n",
       "</table>\n",
       "</div>"
      ],
      "text/plain": [
       "          valid_0\n",
       "ndcg@1   0.265604\n",
       "ndcg@10  0.550946\n",
       "ndcg@3   0.414681\n",
       "ndcg@5   0.482432"
      ]
     },
     "execution_count": 9,
     "metadata": {},
     "output_type": "execute_result"
    }
   ],
   "source": [
    "pd.DataFrame(gbm.best_score_)"
   ]
  },
  {
   "cell_type": "code",
   "execution_count": 10,
   "metadata": {},
   "outputs": [
    {
     "data": {
      "text/plain": [
       "<lightgbm.basic.Booster at 0x11c34be80>"
      ]
     },
     "execution_count": 10,
     "metadata": {},
     "output_type": "execute_result"
    }
   ],
   "source": [
    "gbm.booster_.save_model('./data/model.txt')"
   ]
  },
  {
   "cell_type": "code",
   "execution_count": 7,
   "metadata": {},
   "outputs": [],
   "source": [
    "# baseline model and param optimization\n",
    "# wont go into it"
   ]
  },
  {
   "cell_type": "code",
   "execution_count": 8,
   "metadata": {},
   "outputs": [],
   "source": [
    "# lightgbm api\n",
    "# train_ds = lgb.Dataset('./data/train_ds.bin')\n",
    "# val_ds = lgb.Dataset('./data/val_ds.bin')\n",
    "# param = {'objective': 'lambdarank',\n",
    "#          'metric': 'ndcg'}\n",
    "# bst = lgb.train(param, train_ds, valid_sets=[val_ds], early_stopping_rounds=5)\n",
    "# bst.save_model('model.txt', num_iteration=bst.best_iteration)\n",
    "# bst = lgb.Booster(model_file='model.txt')\n",
    "# ypred = bst.predict(test_ds) # num_iteration=bst.best_iteration"
   ]
  }
 ],
 "metadata": {
  "kernelspec": {
   "display_name": "Python 3",
   "language": "python",
   "name": "python3"
  },
  "language_info": {
   "codemirror_mode": {
    "name": "ipython",
    "version": 3
   },
   "file_extension": ".py",
   "mimetype": "text/x-python",
   "name": "python",
   "nbconvert_exporter": "python",
   "pygments_lexer": "ipython3",
   "version": "3.6.8"
  }
 },
 "nbformat": 4,
 "nbformat_minor": 4
}
