{
 "cells": [
  {
   "cell_type": "code",
   "execution_count": 11,
   "metadata": {},
   "outputs": [],
   "source": [
    "import os\n",
    "os.chdir('/Users/francopiccolo/GitHub/learn-to-rank')"
   ]
  },
  {
   "cell_type": "code",
   "execution_count": 12,
   "metadata": {},
   "outputs": [],
   "source": [
    "import lightgbm as lgb"
   ]
  },
  {
   "cell_type": "code",
   "execution_count": 13,
   "metadata": {},
   "outputs": [],
   "source": [
    "import pandas as pd\n",
    "X_train = pd.read_pickle('./data/X_train.pkl')\n",
    "X_val = pd.read_pickle('./data/X_val.pkl')\n",
    "\n",
    "y_train = pd.read_pickle('./data/y_train.pkl')\n",
    "y_val = pd.read_pickle('./data/y_val.pkl')\n",
    "\n",
    "train_query_sizes = pd.read_pickle('./data/train_query_sizes.pkl')\n",
    "val_query_sizes = pd.read_pickle('./data/val_query_sizes.pkl')"
   ]
  },
  {
   "cell_type": "code",
   "execution_count": 14,
   "metadata": {},
   "outputs": [
    {
     "name": "stdout",
     "output_type": "stream",
     "text": [
      "[1]\tvalid_0's ndcg@1: 0.242383\tvalid_0's ndcg@3: 0.386117\tvalid_0's ndcg@5: 0.454693\tvalid_0's ndcg@10: 0.527776\n",
      "Training until validation scores don't improve for 10 rounds\n",
      "[2]\tvalid_0's ndcg@1: 0.235163\tvalid_0's ndcg@3: 0.38034\tvalid_0's ndcg@5: 0.448688\tvalid_0's ndcg@10: 0.524324\n",
      "[3]\tvalid_0's ndcg@1: 0.24012\tvalid_0's ndcg@3: 0.384039\tvalid_0's ndcg@5: 0.453747\tvalid_0's ndcg@10: 0.528783\n",
      "[4]\tvalid_0's ndcg@1: 0.240884\tvalid_0's ndcg@3: 0.387748\tvalid_0's ndcg@5: 0.4567\tvalid_0's ndcg@10: 0.53069\n",
      "[5]\tvalid_0's ndcg@1: 0.244896\tvalid_0's ndcg@3: 0.391115\tvalid_0's ndcg@5: 0.459497\tvalid_0's ndcg@10: 0.533142\n",
      "[6]\tvalid_0's ndcg@1: 0.244902\tvalid_0's ndcg@3: 0.393382\tvalid_0's ndcg@5: 0.461242\tvalid_0's ndcg@10: 0.534467\n",
      "[7]\tvalid_0's ndcg@1: 0.249738\tvalid_0's ndcg@3: 0.396487\tvalid_0's ndcg@5: 0.463993\tvalid_0's ndcg@10: 0.536602\n",
      "[8]\tvalid_0's ndcg@1: 0.251731\tvalid_0's ndcg@3: 0.397885\tvalid_0's ndcg@5: 0.46568\tvalid_0's ndcg@10: 0.53809\n",
      "[9]\tvalid_0's ndcg@1: 0.252109\tvalid_0's ndcg@3: 0.398001\tvalid_0's ndcg@5: 0.465608\tvalid_0's ndcg@10: 0.538635\n",
      "[10]\tvalid_0's ndcg@1: 0.253872\tvalid_0's ndcg@3: 0.399626\tvalid_0's ndcg@5: 0.467571\tvalid_0's ndcg@10: 0.539646\n",
      "[11]\tvalid_0's ndcg@1: 0.253919\tvalid_0's ndcg@3: 0.400128\tvalid_0's ndcg@5: 0.467956\tvalid_0's ndcg@10: 0.54003\n",
      "[12]\tvalid_0's ndcg@1: 0.253446\tvalid_0's ndcg@3: 0.400999\tvalid_0's ndcg@5: 0.468259\tvalid_0's ndcg@10: 0.540326\n",
      "[13]\tvalid_0's ndcg@1: 0.254047\tvalid_0's ndcg@3: 0.40157\tvalid_0's ndcg@5: 0.468644\tvalid_0's ndcg@10: 0.540733\n",
      "[14]\tvalid_0's ndcg@1: 0.254513\tvalid_0's ndcg@3: 0.402715\tvalid_0's ndcg@5: 0.469604\tvalid_0's ndcg@10: 0.541546\n",
      "[15]\tvalid_0's ndcg@1: 0.256222\tvalid_0's ndcg@3: 0.404287\tvalid_0's ndcg@5: 0.471128\tvalid_0's ndcg@10: 0.542667\n",
      "[16]\tvalid_0's ndcg@1: 0.256357\tvalid_0's ndcg@3: 0.404611\tvalid_0's ndcg@5: 0.471558\tvalid_0's ndcg@10: 0.542944\n",
      "[17]\tvalid_0's ndcg@1: 0.257911\tvalid_0's ndcg@3: 0.405931\tvalid_0's ndcg@5: 0.473022\tvalid_0's ndcg@10: 0.544112\n",
      "[18]\tvalid_0's ndcg@1: 0.258492\tvalid_0's ndcg@3: 0.406451\tvalid_0's ndcg@5: 0.473738\tvalid_0's ndcg@10: 0.544436\n",
      "[19]\tvalid_0's ndcg@1: 0.259437\tvalid_0's ndcg@3: 0.407267\tvalid_0's ndcg@5: 0.474731\tvalid_0's ndcg@10: 0.544843\n",
      "[20]\tvalid_0's ndcg@1: 0.259842\tvalid_0's ndcg@3: 0.408472\tvalid_0's ndcg@5: 0.475606\tvalid_0's ndcg@10: 0.545317\n",
      "[21]\tvalid_0's ndcg@1: 0.260086\tvalid_0's ndcg@3: 0.408996\tvalid_0's ndcg@5: 0.476139\tvalid_0's ndcg@10: 0.545645\n",
      "[22]\tvalid_0's ndcg@1: 0.260538\tvalid_0's ndcg@3: 0.409476\tvalid_0's ndcg@5: 0.476515\tvalid_0's ndcg@10: 0.546056\n",
      "[23]\tvalid_0's ndcg@1: 0.260349\tvalid_0's ndcg@3: 0.409936\tvalid_0's ndcg@5: 0.476669\tvalid_0's ndcg@10: 0.546189\n",
      "[24]\tvalid_0's ndcg@1: 0.260849\tvalid_0's ndcg@3: 0.409998\tvalid_0's ndcg@5: 0.477009\tvalid_0's ndcg@10: 0.546453\n",
      "[25]\tvalid_0's ndcg@1: 0.260943\tvalid_0's ndcg@3: 0.409943\tvalid_0's ndcg@5: 0.477133\tvalid_0's ndcg@10: 0.546552\n",
      "[26]\tvalid_0's ndcg@1: 0.261166\tvalid_0's ndcg@3: 0.410053\tvalid_0's ndcg@5: 0.477401\tvalid_0's ndcg@10: 0.546687\n",
      "[27]\tvalid_0's ndcg@1: 0.261612\tvalid_0's ndcg@3: 0.410408\tvalid_0's ndcg@5: 0.477644\tvalid_0's ndcg@10: 0.546945\n",
      "[28]\tvalid_0's ndcg@1: 0.262159\tvalid_0's ndcg@3: 0.410743\tvalid_0's ndcg@5: 0.478089\tvalid_0's ndcg@10: 0.547401\n",
      "[29]\tvalid_0's ndcg@1: 0.262693\tvalid_0's ndcg@3: 0.411321\tvalid_0's ndcg@5: 0.478715\tvalid_0's ndcg@10: 0.547821\n",
      "[30]\tvalid_0's ndcg@1: 0.262726\tvalid_0's ndcg@3: 0.411927\tvalid_0's ndcg@5: 0.478987\tvalid_0's ndcg@10: 0.548009\n",
      "[31]\tvalid_0's ndcg@1: 0.262997\tvalid_0's ndcg@3: 0.411738\tvalid_0's ndcg@5: 0.479021\tvalid_0's ndcg@10: 0.547971\n",
      "[32]\tvalid_0's ndcg@1: 0.262929\tvalid_0's ndcg@3: 0.411577\tvalid_0's ndcg@5: 0.478951\tvalid_0's ndcg@10: 0.547912\n",
      "[33]\tvalid_0's ndcg@1: 0.263118\tvalid_0's ndcg@3: 0.411834\tvalid_0's ndcg@5: 0.479212\tvalid_0's ndcg@10: 0.548174\n",
      "[34]\tvalid_0's ndcg@1: 0.263098\tvalid_0's ndcg@3: 0.412035\tvalid_0's ndcg@5: 0.479294\tvalid_0's ndcg@10: 0.54825\n",
      "[35]\tvalid_0's ndcg@1: 0.262713\tvalid_0's ndcg@3: 0.411947\tvalid_0's ndcg@5: 0.479154\tvalid_0's ndcg@10: 0.548096\n",
      "[36]\tvalid_0's ndcg@1: 0.263084\tvalid_0's ndcg@3: 0.412296\tvalid_0's ndcg@5: 0.479472\tvalid_0's ndcg@10: 0.548479\n",
      "[37]\tvalid_0's ndcg@1: 0.263368\tvalid_0's ndcg@3: 0.412644\tvalid_0's ndcg@5: 0.479605\tvalid_0's ndcg@10: 0.548667\n",
      "[38]\tvalid_0's ndcg@1: 0.263327\tvalid_0's ndcg@3: 0.412835\tvalid_0's ndcg@5: 0.479931\tvalid_0's ndcg@10: 0.548817\n",
      "[39]\tvalid_0's ndcg@1: 0.263138\tvalid_0's ndcg@3: 0.412844\tvalid_0's ndcg@5: 0.479934\tvalid_0's ndcg@10: 0.548808\n",
      "[40]\tvalid_0's ndcg@1: 0.26355\tvalid_0's ndcg@3: 0.413072\tvalid_0's ndcg@5: 0.480128\tvalid_0's ndcg@10: 0.549082\n",
      "[41]\tvalid_0's ndcg@1: 0.263571\tvalid_0's ndcg@3: 0.413339\tvalid_0's ndcg@5: 0.479983\tvalid_0's ndcg@10: 0.549166\n",
      "[42]\tvalid_0's ndcg@1: 0.263733\tvalid_0's ndcg@3: 0.413527\tvalid_0's ndcg@5: 0.479976\tvalid_0's ndcg@10: 0.549211\n",
      "[43]\tvalid_0's ndcg@1: 0.263814\tvalid_0's ndcg@3: 0.41373\tvalid_0's ndcg@5: 0.480154\tvalid_0's ndcg@10: 0.549304\n",
      "[44]\tvalid_0's ndcg@1: 0.26426\tvalid_0's ndcg@3: 0.413906\tvalid_0's ndcg@5: 0.480519\tvalid_0's ndcg@10: 0.549482\n",
      "[45]\tvalid_0's ndcg@1: 0.264381\tvalid_0's ndcg@3: 0.414056\tvalid_0's ndcg@5: 0.480553\tvalid_0's ndcg@10: 0.549646\n",
      "[46]\tvalid_0's ndcg@1: 0.26453\tvalid_0's ndcg@3: 0.41432\tvalid_0's ndcg@5: 0.480645\tvalid_0's ndcg@10: 0.549775\n",
      "[47]\tvalid_0's ndcg@1: 0.26455\tvalid_0's ndcg@3: 0.414288\tvalid_0's ndcg@5: 0.480748\tvalid_0's ndcg@10: 0.549828\n",
      "[48]\tvalid_0's ndcg@1: 0.264408\tvalid_0's ndcg@3: 0.414521\tvalid_0's ndcg@5: 0.480762\tvalid_0's ndcg@10: 0.549895\n",
      "[49]\tvalid_0's ndcg@1: 0.264611\tvalid_0's ndcg@3: 0.414695\tvalid_0's ndcg@5: 0.480958\tvalid_0's ndcg@10: 0.550001\n",
      "[50]\tvalid_0's ndcg@1: 0.264935\tvalid_0's ndcg@3: 0.414738\tvalid_0's ndcg@5: 0.481034\tvalid_0's ndcg@10: 0.550084\n",
      "[51]\tvalid_0's ndcg@1: 0.264888\tvalid_0's ndcg@3: 0.414745\tvalid_0's ndcg@5: 0.481047\tvalid_0's ndcg@10: 0.550085\n",
      "[52]\tvalid_0's ndcg@1: 0.264726\tvalid_0's ndcg@3: 0.41494\tvalid_0's ndcg@5: 0.481067\tvalid_0's ndcg@10: 0.550086\n",
      "[53]\tvalid_0's ndcg@1: 0.264847\tvalid_0's ndcg@3: 0.414883\tvalid_0's ndcg@5: 0.481172\tvalid_0's ndcg@10: 0.550164\n",
      "[54]\tvalid_0's ndcg@1: 0.264584\tvalid_0's ndcg@3: 0.414695\tvalid_0's ndcg@5: 0.481036\tvalid_0's ndcg@10: 0.550052\n",
      "[55]\tvalid_0's ndcg@1: 0.264631\tvalid_0's ndcg@3: 0.414678\tvalid_0's ndcg@5: 0.481056\tvalid_0's ndcg@10: 0.550073\n",
      "[56]\tvalid_0's ndcg@1: 0.264773\tvalid_0's ndcg@3: 0.414716\tvalid_0's ndcg@5: 0.481138\tvalid_0's ndcg@10: 0.550125\n",
      "[57]\tvalid_0's ndcg@1: 0.264476\tvalid_0's ndcg@3: 0.414672\tvalid_0's ndcg@5: 0.481001\tvalid_0's ndcg@10: 0.55005\n",
      "[58]\tvalid_0's ndcg@1: 0.26457\tvalid_0's ndcg@3: 0.414668\tvalid_0's ndcg@5: 0.481145\tvalid_0's ndcg@10: 0.550103\n",
      "[59]\tvalid_0's ndcg@1: 0.264516\tvalid_0's ndcg@3: 0.414717\tvalid_0's ndcg@5: 0.481129\tvalid_0's ndcg@10: 0.550094\n",
      "[60]\tvalid_0's ndcg@1: 0.264624\tvalid_0's ndcg@3: 0.414777\tvalid_0's ndcg@5: 0.481197\tvalid_0's ndcg@10: 0.550171\n",
      "Early stopping, best iteration is:\n",
      "[50]\tvalid_0's ndcg@1: 0.264935\tvalid_0's ndcg@3: 0.414738\tvalid_0's ndcg@5: 0.481034\tvalid_0's ndcg@10: 0.550084\n"
     ]
    },
    {
     "data": {
      "text/plain": [
       "LGBMRanker(random_state=1)"
      ]
     },
     "execution_count": 14,
     "metadata": {},
     "output_type": "execute_result"
    }
   ],
   "source": [
    "gbm = lgb.LGBMRanker(random_state=1)\n",
    "gbm.fit(X_train, y_train, group=train_query_sizes,\n",
    "        eval_set=[(X_val, y_val)], eval_group=[val_query_sizes], eval_at = [1, 3, 5, 10],\n",
    "        early_stopping_rounds=10, verbose=True, \n",
    "        callbacks=[lgb.reset_parameter(learning_rate=lambda x: 0.95 ** x * 0.1)])"
   ]
  },
  {
   "cell_type": "code",
   "execution_count": 15,
   "metadata": {},
   "outputs": [
    {
     "data": {
      "text/html": [
       "<div>\n",
       "<style scoped>\n",
       "    .dataframe tbody tr th:only-of-type {\n",
       "        vertical-align: middle;\n",
       "    }\n",
       "\n",
       "    .dataframe tbody tr th {\n",
       "        vertical-align: top;\n",
       "    }\n",
       "\n",
       "    .dataframe thead th {\n",
       "        text-align: right;\n",
       "    }\n",
       "</style>\n",
       "<table border=\"1\" class=\"dataframe\">\n",
       "  <thead>\n",
       "    <tr style=\"text-align: right;\">\n",
       "      <th></th>\n",
       "      <th>valid_0</th>\n",
       "    </tr>\n",
       "  </thead>\n",
       "  <tbody>\n",
       "    <tr>\n",
       "      <th>ndcg@1</th>\n",
       "      <td>0.264935</td>\n",
       "    </tr>\n",
       "    <tr>\n",
       "      <th>ndcg@10</th>\n",
       "      <td>0.550084</td>\n",
       "    </tr>\n",
       "    <tr>\n",
       "      <th>ndcg@3</th>\n",
       "      <td>0.414738</td>\n",
       "    </tr>\n",
       "    <tr>\n",
       "      <th>ndcg@5</th>\n",
       "      <td>0.481034</td>\n",
       "    </tr>\n",
       "  </tbody>\n",
       "</table>\n",
       "</div>"
      ],
      "text/plain": [
       "          valid_0\n",
       "ndcg@1   0.264935\n",
       "ndcg@10  0.550084\n",
       "ndcg@3   0.414738\n",
       "ndcg@5   0.481034"
      ]
     },
     "execution_count": 15,
     "metadata": {},
     "output_type": "execute_result"
    }
   ],
   "source": [
    "pd.DataFrame(gbm.best_score_)"
   ]
  },
  {
   "cell_type": "code",
   "execution_count": 16,
   "metadata": {},
   "outputs": [
    {
     "data": {
      "text/plain": [
       "<lightgbm.basic.Booster at 0x1066b26d8>"
      ]
     },
     "execution_count": 16,
     "metadata": {},
     "output_type": "execute_result"
    }
   ],
   "source": [
    "gbm.booster_.save_model('./data/model.txt')"
   ]
  },
  {
   "cell_type": "code",
   "execution_count": 17,
   "metadata": {},
   "outputs": [],
   "source": [
    "# baseline model and param optimization\n",
    "# wont go into it"
   ]
  },
  {
   "cell_type": "code",
   "execution_count": 18,
   "metadata": {},
   "outputs": [],
   "source": [
    "# lightgbm api\n",
    "# train_ds = lgb.Dataset('./data/train_ds.bin')\n",
    "# val_ds = lgb.Dataset('./data/val_ds.bin')\n",
    "# param = {'objective': 'lambdarank',\n",
    "#          'metric': 'ndcg'}\n",
    "# bst = lgb.train(param, train_ds, valid_sets=[val_ds], early_stopping_rounds=5)\n",
    "# bst.save_model('model.txt', num_iteration=bst.best_iteration)\n",
    "# bst = lgb.Booster(model_file='model.txt')\n",
    "# ypred = bst.predict(test_ds) # num_iteration=bst.best_iteration"
   ]
  }
 ],
 "metadata": {
  "kernelspec": {
   "display_name": "Python 3",
   "language": "python",
   "name": "python3"
  },
  "language_info": {
   "codemirror_mode": {
    "name": "ipython",
    "version": 3
   },
   "file_extension": ".py",
   "mimetype": "text/x-python",
   "name": "python",
   "nbconvert_exporter": "python",
   "pygments_lexer": "ipython3",
   "version": "3.6.8"
  }
 },
 "nbformat": 4,
 "nbformat_minor": 4
}
