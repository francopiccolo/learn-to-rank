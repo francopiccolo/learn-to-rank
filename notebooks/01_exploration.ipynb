{
 "cells": [
  {
   "cell_type": "code",
   "execution_count": 71,
   "metadata": {},
   "outputs": [],
   "source": [
    "import os\n",
    "os.chdir('/Users/francopiccolo/GitHub/learn-to-rank')"
   ]
  },
  {
   "cell_type": "code",
   "execution_count": 72,
   "metadata": {},
   "outputs": [],
   "source": [
    "import pandas as pd\n",
    "import matplotlib.pyplot as plt\n",
    "\n",
    "properties = pd.read_csv('./data/properties.csv')\n",
    "reviews = pd.read_csv('./data/reviews.csv')\n",
    "queries = pd.read_csv('./data/queries.csv')\n",
    "interactions = pd.read_csv('./data/interactions.csv')"
   ]
  },
  {
   "cell_type": "code",
   "execution_count": 6,
   "metadata": {},
   "outputs": [
    {
     "data": {
      "text/html": [
       "<div>\n",
       "<style scoped>\n",
       "    .dataframe tbody tr th:only-of-type {\n",
       "        vertical-align: middle;\n",
       "    }\n",
       "\n",
       "    .dataframe tbody tr th {\n",
       "        vertical-align: top;\n",
       "    }\n",
       "\n",
       "    .dataframe thead th {\n",
       "        text-align: right;\n",
       "    }\n",
       "</style>\n",
       "<table border=\"1\" class=\"dataframe\">\n",
       "  <thead>\n",
       "    <tr style=\"text-align: right;\">\n",
       "      <th></th>\n",
       "      <th>property_id</th>\n",
       "      <th>city_id</th>\n",
       "      <th>country_id</th>\n",
       "      <th>property_type</th>\n",
       "      <th>distance_to_center</th>\n",
       "    </tr>\n",
       "  </thead>\n",
       "  <tbody>\n",
       "    <tr>\n",
       "      <th>0</th>\n",
       "      <td>2696</td>\n",
       "      <td>2559</td>\n",
       "      <td>148</td>\n",
       "      <td>3</td>\n",
       "      <td>0.1</td>\n",
       "    </tr>\n",
       "    <tr>\n",
       "      <th>1</th>\n",
       "      <td>5489</td>\n",
       "      <td>5199</td>\n",
       "      <td>108</td>\n",
       "      <td>1</td>\n",
       "      <td>2.3</td>\n",
       "    </tr>\n",
       "    <tr>\n",
       "      <th>2</th>\n",
       "      <td>21081</td>\n",
       "      <td>290</td>\n",
       "      <td>154</td>\n",
       "      <td>1</td>\n",
       "      <td>0.4</td>\n",
       "    </tr>\n",
       "    <tr>\n",
       "      <th>3</th>\n",
       "      <td>4108</td>\n",
       "      <td>2559</td>\n",
       "      <td>148</td>\n",
       "      <td>1</td>\n",
       "      <td>1.3</td>\n",
       "    </tr>\n",
       "    <tr>\n",
       "      <th>4</th>\n",
       "      <td>21578</td>\n",
       "      <td>5492</td>\n",
       "      <td>83</td>\n",
       "      <td>1</td>\n",
       "      <td>1.1</td>\n",
       "    </tr>\n",
       "  </tbody>\n",
       "</table>\n",
       "</div>"
      ],
      "text/plain": [
       "   property_id  city_id  country_id  property_type  distance_to_center\n",
       "0         2696     2559         148              3                 0.1\n",
       "1         5489     5199         108              1                 2.3\n",
       "2        21081      290         154              1                 0.4\n",
       "3         4108     2559         148              1                 1.3\n",
       "4        21578     5492          83              1                 1.1"
      ]
     },
     "execution_count": 6,
     "metadata": {},
     "output_type": "execute_result"
    }
   ],
   "source": [
    "properties.head()"
   ]
  },
  {
   "cell_type": "code",
   "execution_count": 10,
   "metadata": {},
   "outputs": [
    {
     "name": "stdout",
     "output_type": "stream",
     "text": [
      "<class 'pandas.core.frame.DataFrame'>\n",
      "RangeIndex: 21202 entries, 0 to 21201\n",
      "Data columns (total 5 columns):\n",
      " #   Column              Non-Null Count  Dtype  \n",
      "---  ------              --------------  -----  \n",
      " 0   property_id         21202 non-null  int64  \n",
      " 1   city_id             21202 non-null  int64  \n",
      " 2   country_id          21202 non-null  int64  \n",
      " 3   property_type       21202 non-null  int64  \n",
      " 4   distance_to_center  21202 non-null  float64\n",
      "dtypes: float64(1), int64(4)\n",
      "memory usage: 828.3 KB\n"
     ]
    }
   ],
   "source": [
    "properties.info()"
   ]
  },
  {
   "cell_type": "code",
   "execution_count": 76,
   "metadata": {},
   "outputs": [
    {
     "data": {
      "text/plain": [
       "<AxesSubplot:>"
      ]
     },
     "execution_count": 76,
     "metadata": {},
     "output_type": "execute_result"
    },
    {
     "data": {
      "image/png": "[encoded data removed]",
      "text/plain": [
       "<Figure size 432x288 with 1 Axes>"
      ]
     },
     "metadata": {
      "needs_background": "light"
     },
     "output_type": "display_data"
    }
   ],
   "source": [
    "properties['city_id'].value_counts().iloc[:10].plot(kind='barh')"
   ]
  },
  {
   "cell_type": "code",
   "execution_count": 7,
   "metadata": {},
   "outputs": [
    {
     "data": {
      "text/html": [
       "<div>\n",
       "<style scoped>\n",
       "    .dataframe tbody tr th:only-of-type {\n",
       "        vertical-align: middle;\n",
       "    }\n",
       "\n",
       "    .dataframe tbody tr th {\n",
       "        vertical-align: top;\n",
       "    }\n",
       "\n",
       "    .dataframe thead th {\n",
       "        text-align: right;\n",
       "    }\n",
       "</style>\n",
       "<table border=\"1\" class=\"dataframe\">\n",
       "  <thead>\n",
       "    <tr style=\"text-align: right;\">\n",
       "      <th></th>\n",
       "      <th>property_id</th>\n",
       "      <th>date_stayed</th>\n",
       "      <th>age_group</th>\n",
       "      <th>trip_type</th>\n",
       "      <th>security_score</th>\n",
       "      <th>location_score</th>\n",
       "      <th>staff_score</th>\n",
       "      <th>fun_score</th>\n",
       "      <th>cleanliness_score</th>\n",
       "      <th>value_for_money_score</th>\n",
       "      <th>facilities_score</th>\n",
       "    </tr>\n",
       "  </thead>\n",
       "  <tbody>\n",
       "    <tr>\n",
       "      <th>0</th>\n",
       "      <td>15563</td>\n",
       "      <td>2019-06-12</td>\n",
       "      <td>18-24</td>\n",
       "      <td>REGULARVACATION</td>\n",
       "      <td>4</td>\n",
       "      <td>5</td>\n",
       "      <td>4</td>\n",
       "      <td>5</td>\n",
       "      <td>3</td>\n",
       "      <td>5</td>\n",
       "      <td>4</td>\n",
       "    </tr>\n",
       "    <tr>\n",
       "      <th>1</th>\n",
       "      <td>15074</td>\n",
       "      <td>2019-06-04</td>\n",
       "      <td>18-24</td>\n",
       "      <td>OTHER</td>\n",
       "      <td>5</td>\n",
       "      <td>5</td>\n",
       "      <td>5</td>\n",
       "      <td>5</td>\n",
       "      <td>4</td>\n",
       "      <td>5</td>\n",
       "      <td>5</td>\n",
       "    </tr>\n",
       "    <tr>\n",
       "      <th>2</th>\n",
       "      <td>21078</td>\n",
       "      <td>2019-10-26</td>\n",
       "      <td>18-24</td>\n",
       "      <td>WEEKENDAWAY</td>\n",
       "      <td>3</td>\n",
       "      <td>5</td>\n",
       "      <td>5</td>\n",
       "      <td>4</td>\n",
       "      <td>4</td>\n",
       "      <td>4</td>\n",
       "      <td>4</td>\n",
       "    </tr>\n",
       "    <tr>\n",
       "      <th>3</th>\n",
       "      <td>12179</td>\n",
       "      <td>2019-10-20</td>\n",
       "      <td>18-24</td>\n",
       "      <td>GAPYEAR</td>\n",
       "      <td>5</td>\n",
       "      <td>5</td>\n",
       "      <td>5</td>\n",
       "      <td>5</td>\n",
       "      <td>5</td>\n",
       "      <td>5</td>\n",
       "      <td>5</td>\n",
       "    </tr>\n",
       "    <tr>\n",
       "      <th>4</th>\n",
       "      <td>21314</td>\n",
       "      <td>2019-10-26</td>\n",
       "      <td>31-40</td>\n",
       "      <td>REGULARVACATION</td>\n",
       "      <td>3</td>\n",
       "      <td>4</td>\n",
       "      <td>3</td>\n",
       "      <td>3</td>\n",
       "      <td>2</td>\n",
       "      <td>4</td>\n",
       "      <td>2</td>\n",
       "    </tr>\n",
       "  </tbody>\n",
       "</table>\n",
       "</div>"
      ],
      "text/plain": [
       "   property_id date_stayed age_group        trip_type  security_score  \\\n",
       "0        15563  2019-06-12     18-24  REGULARVACATION               4   \n",
       "1        15074  2019-06-04     18-24            OTHER               5   \n",
       "2        21078  2019-10-26     18-24      WEEKENDAWAY               3   \n",
       "3        12179  2019-10-20     18-24          GAPYEAR               5   \n",
       "4        21314  2019-10-26     31-40  REGULARVACATION               3   \n",
       "\n",
       "   location_score  staff_score  fun_score  cleanliness_score  \\\n",
       "0               5            4          5                  3   \n",
       "1               5            5          5                  4   \n",
       "2               5            5          4                  4   \n",
       "3               5            5          5                  5   \n",
       "4               4            3          3                  2   \n",
       "\n",
       "   value_for_money_score  facilities_score  \n",
       "0                      5                 4  \n",
       "1                      5                 5  \n",
       "2                      4                 4  \n",
       "3                      5                 5  \n",
       "4                      4                 2  "
      ]
     },
     "execution_count": 7,
     "metadata": {},
     "output_type": "execute_result"
    }
   ],
   "source": [
    "reviews.head()"
   ]
  },
  {
   "cell_type": "code",
   "execution_count": 12,
   "metadata": {},
   "outputs": [
    {
     "name": "stdout",
     "output_type": "stream",
     "text": [
      "<class 'pandas.core.frame.DataFrame'>\n",
      "RangeIndex: 649055 entries, 0 to 649054\n",
      "Data columns (total 11 columns):\n",
      " #   Column                 Non-Null Count   Dtype \n",
      "---  ------                 --------------   ----- \n",
      " 0   property_id            649055 non-null  int64 \n",
      " 1   date_stayed            649055 non-null  object\n",
      " 2   age_group              649055 non-null  object\n",
      " 3   trip_type              649055 non-null  object\n",
      " 4   security_score         649055 non-null  int64 \n",
      " 5   location_score         649055 non-null  int64 \n",
      " 6   staff_score            649055 non-null  int64 \n",
      " 7   fun_score              649055 non-null  int64 \n",
      " 8   cleanliness_score      649055 non-null  int64 \n",
      " 9   value_for_money_score  649055 non-null  int64 \n",
      " 10  facilities_score       649055 non-null  int64 \n",
      "dtypes: int64(8), object(3)\n",
      "memory usage: 54.5+ MB\n"
     ]
    }
   ],
   "source": [
    "reviews.info()"
   ]
  },
  {
   "cell_type": "code",
   "execution_count": 19,
   "metadata": {},
   "outputs": [
    {
     "data": {
      "text/html": [
       "<div>\n",
       "<style scoped>\n",
       "    .dataframe tbody tr th:only-of-type {\n",
       "        vertical-align: middle;\n",
       "    }\n",
       "\n",
       "    .dataframe tbody tr th {\n",
       "        vertical-align: top;\n",
       "    }\n",
       "\n",
       "    .dataframe thead th {\n",
       "        text-align: right;\n",
       "    }\n",
       "</style>\n",
       "<table border=\"1\" class=\"dataframe\">\n",
       "  <thead>\n",
       "    <tr style=\"text-align: right;\">\n",
       "      <th></th>\n",
       "      <th>property_id</th>\n",
       "      <th>security_score</th>\n",
       "      <th>location_score</th>\n",
       "      <th>staff_score</th>\n",
       "      <th>fun_score</th>\n",
       "      <th>cleanliness_score</th>\n",
       "      <th>value_for_money_score</th>\n",
       "      <th>facilities_score</th>\n",
       "    </tr>\n",
       "  </thead>\n",
       "  <tbody>\n",
       "    <tr>\n",
       "      <th>count</th>\n",
       "      <td>649055.000000</td>\n",
       "      <td>649055.000000</td>\n",
       "      <td>649055.000000</td>\n",
       "      <td>649055.000000</td>\n",
       "      <td>649055.000000</td>\n",
       "      <td>649055.000000</td>\n",
       "      <td>649055.000000</td>\n",
       "      <td>649055.000000</td>\n",
       "    </tr>\n",
       "    <tr>\n",
       "      <th>mean</th>\n",
       "      <td>14197.759255</td>\n",
       "      <td>4.498087</td>\n",
       "      <td>4.528877</td>\n",
       "      <td>4.503826</td>\n",
       "      <td>4.230138</td>\n",
       "      <td>4.312527</td>\n",
       "      <td>4.371408</td>\n",
       "      <td>4.234660</td>\n",
       "    </tr>\n",
       "    <tr>\n",
       "      <th>std</th>\n",
       "      <td>5641.663602</td>\n",
       "      <td>0.822245</td>\n",
       "      <td>0.768957</td>\n",
       "      <td>0.871220</td>\n",
       "      <td>1.004749</td>\n",
       "      <td>0.994968</td>\n",
       "      <td>0.918060</td>\n",
       "      <td>0.999786</td>\n",
       "    </tr>\n",
       "    <tr>\n",
       "      <th>min</th>\n",
       "      <td>3.000000</td>\n",
       "      <td>1.000000</td>\n",
       "      <td>1.000000</td>\n",
       "      <td>1.000000</td>\n",
       "      <td>1.000000</td>\n",
       "      <td>1.000000</td>\n",
       "      <td>1.000000</td>\n",
       "      <td>1.000000</td>\n",
       "    </tr>\n",
       "    <tr>\n",
       "      <th>25%</th>\n",
       "      <td>9656.000000</td>\n",
       "      <td>4.000000</td>\n",
       "      <td>4.000000</td>\n",
       "      <td>4.000000</td>\n",
       "      <td>4.000000</td>\n",
       "      <td>4.000000</td>\n",
       "      <td>4.000000</td>\n",
       "      <td>4.000000</td>\n",
       "    </tr>\n",
       "    <tr>\n",
       "      <th>50%</th>\n",
       "      <td>14925.000000</td>\n",
       "      <td>5.000000</td>\n",
       "      <td>5.000000</td>\n",
       "      <td>5.000000</td>\n",
       "      <td>5.000000</td>\n",
       "      <td>5.000000</td>\n",
       "      <td>5.000000</td>\n",
       "      <td>5.000000</td>\n",
       "    </tr>\n",
       "    <tr>\n",
       "      <th>75%</th>\n",
       "      <td>19252.000000</td>\n",
       "      <td>5.000000</td>\n",
       "      <td>5.000000</td>\n",
       "      <td>5.000000</td>\n",
       "      <td>5.000000</td>\n",
       "      <td>5.000000</td>\n",
       "      <td>5.000000</td>\n",
       "      <td>5.000000</td>\n",
       "    </tr>\n",
       "    <tr>\n",
       "      <th>max</th>\n",
       "      <td>21864.000000</td>\n",
       "      <td>5.000000</td>\n",
       "      <td>5.000000</td>\n",
       "      <td>5.000000</td>\n",
       "      <td>5.000000</td>\n",
       "      <td>5.000000</td>\n",
       "      <td>5.000000</td>\n",
       "      <td>5.000000</td>\n",
       "    </tr>\n",
       "  </tbody>\n",
       "</table>\n",
       "</div>"
      ],
      "text/plain": [
       "         property_id  security_score  location_score    staff_score  \\\n",
       "count  649055.000000   649055.000000   649055.000000  649055.000000   \n",
       "mean    14197.759255        4.498087        4.528877       4.503826   \n",
       "std      5641.663602        0.822245        0.768957       0.871220   \n",
       "min         3.000000        1.000000        1.000000       1.000000   \n",
       "25%      9656.000000        4.000000        4.000000       4.000000   \n",
       "50%     14925.000000        5.000000        5.000000       5.000000   \n",
       "75%     19252.000000        5.000000        5.000000       5.000000   \n",
       "max     21864.000000        5.000000        5.000000       5.000000   \n",
       "\n",
       "           fun_score  cleanliness_score  value_for_money_score  \\\n",
       "count  649055.000000      649055.000000          649055.000000   \n",
       "mean        4.230138           4.312527               4.371408   \n",
       "std         1.004749           0.994968               0.918060   \n",
       "min         1.000000           1.000000               1.000000   \n",
       "25%         4.000000           4.000000               4.000000   \n",
       "50%         5.000000           5.000000               5.000000   \n",
       "75%         5.000000           5.000000               5.000000   \n",
       "max         5.000000           5.000000               5.000000   \n",
       "\n",
       "       facilities_score  \n",
       "count     649055.000000  \n",
       "mean           4.234660  \n",
       "std            0.999786  \n",
       "min            1.000000  \n",
       "25%            4.000000  \n",
       "50%            5.000000  \n",
       "75%            5.000000  \n",
       "max            5.000000  "
      ]
     },
     "execution_count": 19,
     "metadata": {},
     "output_type": "execute_result"
    }
   ],
   "source": [
    "reviews.describe()"
   ]
  },
  {
   "cell_type": "code",
   "execution_count": 22,
   "metadata": {},
   "outputs": [
    {
     "data": {
      "text/plain": [
       "array(['18-24', '31-40', '25-30', 'Over41'], dtype=object)"
      ]
     },
     "execution_count": 22,
     "metadata": {},
     "output_type": "execute_result"
    }
   ],
   "source": [
    "reviews['age_group'].unique()"
   ]
  },
  {
   "cell_type": "code",
   "execution_count": 30,
   "metadata": {},
   "outputs": [
    {
     "data": {
      "text/plain": [
       "<AxesSubplot:>"
      ]
     },
     "execution_count": 30,
     "metadata": {},
     "output_type": "execute_result"
    },
    {
     "data": {
      "image/png": "[encoded data removed]",
      "text/plain": [
       "<Figure size 432x288 with 1 Axes>"
      ]
     },
     "metadata": {
      "needs_background": "light"
     },
     "output_type": "display_data"
    }
   ],
   "source": [
    "reviews['age_group'].value_counts().plot(kind='barh')"
   ]
  },
  {
   "cell_type": "code",
   "execution_count": 21,
   "metadata": {},
   "outputs": [
    {
     "data": {
      "text/plain": [
       "array(['REGULARVACATION', 'OTHER', 'WEEKENDAWAY', 'GAPYEAR', 'Other',\n",
       "       'Weekend Away', 'Gap Year', 'RTWTRIP', 'COLLEGEBREAK',\n",
       "       'Regular Vacation', 'RTW Trip', 'College Break', 'ANNUALVACATION',\n",
       "       'BACKPACK', 'SHORTGETAWAY', 'STUDENTHOLIDAY', 'BACKPACK,CULTURE',\n",
       "       'BUSINESS', 'CULTURE', 'CITY', 'TRIPAROUNDWORLD',\n",
       "       'BACKPACK,CITY,CULTURE', 'CITY,CULTURE', 'FAMILY',\n",
       "       'CITY,FAMILY,CULTURE', 'BACKPACK,CULTURE,OUTDOOR',\n",
       "       'BACKPACK,BEACH,CITY,PARTY,CULTURE,OUTDOOR',\n",
       "       'BACKPACK,BEACH,PARTY', 'BUSINESS,CITY', 'PARTY,CULTURE,WORK',\n",
       "       'CULTURE,OUTDOOR,WORK', 'BEACH', 'BACKPACK,CITY', 'CULTURE,WORK',\n",
       "       'WORK', 'BACKPACK,OUTDOOR', 'CITY,PARTY,CULTURE', 'BACKPACK,BEACH',\n",
       "       'BACKPACK,BEACH,CITY,FESTIVAL,CULTURE,OUTDOOR,FRIENDS',\n",
       "       'BACKPACK,BEACH,CULTURE', 'BACKPACK,PARTY,CULTURE,WORK',\n",
       "       'BACKPACK,CITY,FESTIVAL,PARTY,CULTURE', 'BEACH,WORK',\n",
       "       'CULTURE,OUTDOOR', 'BACKPACK,BEACH,CULTURE,OUTDOOR',\n",
       "       'BACKPACK,CITY,PARTY,RELAX', 'BACKPACK,PARTY',\n",
       "       'BACKPACK,PARTY,CULTURE', 'BACKPACK,BEACH,PARTY,CULTURE',\n",
       "       'BEACH,CITY,FESTIVAL,CULTURE,OUTDOOR,FRIENDS',\n",
       "       'CITY,FESTIVAL,CULTURE', 'FAMILY,CULTURE,OUTDOOR', 'CITY,PARTY',\n",
       "       'CITY,RELAX,CULTURE', 'FESTIVAL,CULTURE,OUTDOOR', 'CITY,FAMILY',\n",
       "       'CITY,CULTURE,OUTDOOR', 'BACKPACK,BEACH,RELAX', 'FESTIVAL',\n",
       "       'CITY,PARTY,RELAX,CULTURE', 'FAMILY,CULTURE',\n",
       "       'CITY,SHOPPING,CULTURE', 'BEACH,CITY,OUTDOOR', 'BUSINESS,CULTURE',\n",
       "       'CITY,PARTY,SHOPPING,CULTURE', 'FRIENDS', 'OUTDOOR',\n",
       "       'BACKPACK,CITY,CULTURE,OUTDOOR', 'BACKPACK,PARTY,CULTURE,OUTDOOR',\n",
       "       'FAMILY,ROMANTIC,CULTURE', 'BACKPACK,PARTY,SHOPPING,CULTURE',\n",
       "       'SHOPPING', 'BACKPACK,BEACH,CITY,PARTY,CULTURE,FRIENDS',\n",
       "       'BACKPACK,CULTURE,FRIENDS',\n",
       "       'BACKPACK,BUSINESS,FESTIVAL,PARTY,SHOPPING,FRIENDS',\n",
       "       'BEACH,CITY,PARTY,CULTURE,OUTDOOR',\n",
       "       'BACKPACK,BEACH,CITY,CULTURE,OUTDOOR', 'FESTIVAL,CULTURE',\n",
       "       'CITY,CULTURE,FRIENDS'], dtype=object)"
      ]
     },
     "execution_count": 21,
     "metadata": {},
     "output_type": "execute_result"
    }
   ],
   "source": [
    "reviews.trip_type.unique()"
   ]
  },
  {
   "cell_type": "code",
   "execution_count": 36,
   "metadata": {},
   "outputs": [
    {
     "data": {
      "text/plain": [
       "<AxesSubplot:>"
      ]
     },
     "execution_count": 36,
     "metadata": {},
     "output_type": "execute_result"
    },
    {
     "data": {
      "image/png": "[encoded data removed]",
      "text/plain": [
       "<Figure size 432x288 with 1 Axes>"
      ]
     },
     "metadata": {
      "needs_background": "light"
     },
     "output_type": "display_data"
    }
   ],
   "source": [
    "reviews['trip_type'].value_counts().iloc[:15].plot(kind='barh')"
   ]
  },
  {
   "cell_type": "code",
   "execution_count": 8,
   "metadata": {},
   "outputs": [
    {
     "data": {
      "text/html": [
       "<div>\n",
       "<style scoped>\n",
       "    .dataframe tbody tr th:only-of-type {\n",
       "        vertical-align: middle;\n",
       "    }\n",
       "\n",
       "    .dataframe tbody tr th {\n",
       "        vertical-align: top;\n",
       "    }\n",
       "\n",
       "    .dataframe thead th {\n",
       "        text-align: right;\n",
       "    }\n",
       "</style>\n",
       "<table border=\"1\" class=\"dataframe\">\n",
       "  <thead>\n",
       "    <tr style=\"text-align: right;\">\n",
       "      <th></th>\n",
       "      <th>query_id</th>\n",
       "      <th>device_type</th>\n",
       "      <th>language</th>\n",
       "      <th>checkin_date</th>\n",
       "      <th>checkout_date</th>\n",
       "      <th>nr_guests</th>\n",
       "      <th>city_id</th>\n",
       "      <th>date_time</th>\n",
       "    </tr>\n",
       "  </thead>\n",
       "  <tbody>\n",
       "    <tr>\n",
       "      <th>0</th>\n",
       "      <td>109397</td>\n",
       "      <td>desktop</td>\n",
       "      <td>english</td>\n",
       "      <td>2019-12-28</td>\n",
       "      <td>2019-12-31</td>\n",
       "      <td>2</td>\n",
       "      <td>4583</td>\n",
       "      <td>2019-12-17 21:41:34</td>\n",
       "    </tr>\n",
       "    <tr>\n",
       "      <th>1</th>\n",
       "      <td>109572</td>\n",
       "      <td>desktop</td>\n",
       "      <td>english</td>\n",
       "      <td>2020-01-05</td>\n",
       "      <td>2020-01-07</td>\n",
       "      <td>6</td>\n",
       "      <td>4799</td>\n",
       "      <td>2019-12-14 08:07:37</td>\n",
       "    </tr>\n",
       "    <tr>\n",
       "      <th>2</th>\n",
       "      <td>109484</td>\n",
       "      <td>desktop</td>\n",
       "      <td>other</td>\n",
       "      <td>2020-01-22</td>\n",
       "      <td>2020-01-23</td>\n",
       "      <td>1</td>\n",
       "      <td>5560</td>\n",
       "      <td>2019-12-17 15:12:09</td>\n",
       "    </tr>\n",
       "    <tr>\n",
       "      <th>3</th>\n",
       "      <td>109365</td>\n",
       "      <td>mobile</td>\n",
       "      <td>english</td>\n",
       "      <td>2019-12-26</td>\n",
       "      <td>2019-12-28</td>\n",
       "      <td>1</td>\n",
       "      <td>3518</td>\n",
       "      <td>2019-12-22 20:44:31</td>\n",
       "    </tr>\n",
       "    <tr>\n",
       "      <th>4</th>\n",
       "      <td>94059</td>\n",
       "      <td>mobile</td>\n",
       "      <td>english</td>\n",
       "      <td>2020-01-07</td>\n",
       "      <td>2020-01-08</td>\n",
       "      <td>2</td>\n",
       "      <td>364</td>\n",
       "      <td>2019-12-27 09:25:56</td>\n",
       "    </tr>\n",
       "  </tbody>\n",
       "</table>\n",
       "</div>"
      ],
      "text/plain": [
       "   query_id device_type language checkin_date checkout_date  nr_guests  \\\n",
       "0    109397     desktop  english   2019-12-28    2019-12-31          2   \n",
       "1    109572     desktop  english   2020-01-05    2020-01-07          6   \n",
       "2    109484     desktop    other   2020-01-22    2020-01-23          1   \n",
       "3    109365      mobile  english   2019-12-26    2019-12-28          1   \n",
       "4     94059      mobile  english   2020-01-07    2020-01-08          2   \n",
       "\n",
       "   city_id            date_time  \n",
       "0     4583  2019-12-17 21:41:34  \n",
       "1     4799  2019-12-14 08:07:37  \n",
       "2     5560  2019-12-17 15:12:09  \n",
       "3     3518  2019-12-22 20:44:31  \n",
       "4      364  2019-12-27 09:25:56  "
      ]
     },
     "execution_count": 8,
     "metadata": {},
     "output_type": "execute_result"
    }
   ],
   "source": [
    "queries.head()"
   ]
  },
  {
   "cell_type": "code",
   "execution_count": 13,
   "metadata": {},
   "outputs": [
    {
     "name": "stdout",
     "output_type": "stream",
     "text": [
      "<class 'pandas.core.frame.DataFrame'>\n",
      "RangeIndex: 500000 entries, 0 to 499999\n",
      "Data columns (total 8 columns):\n",
      " #   Column         Non-Null Count   Dtype \n",
      "---  ------         --------------   ----- \n",
      " 0   query_id       500000 non-null  int64 \n",
      " 1   device_type    500000 non-null  object\n",
      " 2   language       500000 non-null  object\n",
      " 3   checkin_date   500000 non-null  object\n",
      " 4   checkout_date  500000 non-null  object\n",
      " 5   nr_guests      500000 non-null  int64 \n",
      " 6   city_id        500000 non-null  int64 \n",
      " 7   date_time      500000 non-null  object\n",
      "dtypes: int64(3), object(5)\n",
      "memory usage: 30.5+ MB\n"
     ]
    }
   ],
   "source": [
    "queries.info()"
   ]
  },
  {
   "cell_type": "code",
   "execution_count": 45,
   "metadata": {},
   "outputs": [
    {
     "data": {
      "text/plain": [
       "('2019-12-01 00:00:00', '2019-12-31 23:59:58')"
      ]
     },
     "execution_count": 45,
     "metadata": {},
     "output_type": "execute_result"
    }
   ],
   "source": [
    "queries['date_time'].min(), queries['date_time'].max()"
   ]
  },
  {
   "cell_type": "code",
   "execution_count": 53,
   "metadata": {},
   "outputs": [
    {
     "data": {
      "text/plain": [
       "<AxesSubplot:xlabel='day'>"
      ]
     },
     "execution_count": 53,
     "metadata": {},
     "output_type": "execute_result"
    },
    {
     "data": {
      "image/png": "[encoded data removed]",
      "text/plain": [
       "<Figure size 432x288 with 1 Axes>"
      ]
     },
     "metadata": {
      "needs_background": "light"
     },
     "output_type": "display_data"
    }
   ],
   "source": [
    "queries['day'] = pd.to_datetime(queries['date_time']).dt.day\n",
    "queries.groupby('day').size().plot(kind='bar')"
   ]
  },
  {
   "cell_type": "code",
   "execution_count": 64,
   "metadata": {},
   "outputs": [
    {
     "data": {
      "text/plain": [
       "<AxesSubplot:>"
      ]
     },
     "execution_count": 64,
     "metadata": {},
     "output_type": "execute_result"
    },
    {
     "data": {
      "image/png": "[encoded data removed]",
      "text/plain": [
       "<Figure size 432x288 with 1 Axes>"
      ]
     },
     "metadata": {
      "needs_background": "light"
     },
     "output_type": "display_data"
    }
   ],
   "source": [
    "query_sizes_df = interactions.groupby('query_id').size().reset_index().rename({0: 'size'}, axis=1)\n",
    "query_sizes_df['size'][query_sizes_df['size'] < 100].hist()"
   ]
  },
  {
   "cell_type": "code",
   "execution_count": 66,
   "metadata": {},
   "outputs": [
    {
     "data": {
      "text/plain": [
       "<AxesSubplot:>"
      ]
     },
     "execution_count": 66,
     "metadata": {},
     "output_type": "execute_result"
    },
    {
     "data": {
      "image/png": "[encoded data removed]",
      "text/plain": [
       "<Figure size 432x288 with 1 Axes>"
      ]
     },
     "metadata": {
      "needs_background": "light"
     },
     "output_type": "display_data"
    }
   ],
   "source": [
    "query_sizes_df['size'][query_sizes_df['size'] < 20].hist()"
   ]
  },
  {
   "cell_type": "code",
   "execution_count": 70,
   "metadata": {},
   "outputs": [
    {
     "data": {
      "text/plain": [
       "<AxesSubplot:title={'center':'size'}, xlabel='device_type'>"
      ]
     },
     "execution_count": 70,
     "metadata": {},
     "output_type": "execute_result"
    },
    {
     "data": {
      "image/png": "[encoded data removed]",
      "text/plain": [
       "<Figure size 432x288 with 1 Axes>"
      ]
     },
     "metadata": {
      "needs_background": "light"
     },
     "output_type": "display_data"
    }
   ],
   "source": [
    "query_sizes_df[query_sizes_df['size'] < 20].merge(queries).boxplot(column='size', by='device_type')"
   ]
  },
  {
   "cell_type": "code",
   "execution_count": 37,
   "metadata": {},
   "outputs": [
    {
     "data": {
      "text/plain": [
       "array(['english', 'other', 'spanish', 'french', 'german'], dtype=object)"
      ]
     },
     "execution_count": 37,
     "metadata": {},
     "output_type": "execute_result"
    }
   ],
   "source": [
    "queries['language'].unique()"
   ]
  },
  {
   "cell_type": "code",
   "execution_count": 39,
   "metadata": {},
   "outputs": [
    {
     "data": {
      "text/plain": [
       "<AxesSubplot:>"
      ]
     },
     "execution_count": 39,
     "metadata": {},
     "output_type": "execute_result"
    },
    {
     "data": {
      "image/png": "[encoded data removed]",
      "text/plain": [
       "<Figure size 432x288 with 1 Axes>"
      ]
     },
     "metadata": {
      "needs_background": "light"
     },
     "output_type": "display_data"
    }
   ],
   "source": [
    "queries['language'].value_counts().plot(kind='barh')"
   ]
  },
  {
   "cell_type": "code",
   "execution_count": 9,
   "metadata": {},
   "outputs": [
    {
     "data": {
      "text/html": [
       "<div>\n",
       "<style scoped>\n",
       "    .dataframe tbody tr th:only-of-type {\n",
       "        vertical-align: middle;\n",
       "    }\n",
       "\n",
       "    .dataframe tbody tr th {\n",
       "        vertical-align: top;\n",
       "    }\n",
       "\n",
       "    .dataframe thead th {\n",
       "        text-align: right;\n",
       "    }\n",
       "</style>\n",
       "<table border=\"1\" class=\"dataframe\">\n",
       "  <thead>\n",
       "    <tr style=\"text-align: right;\">\n",
       "      <th></th>\n",
       "      <th>query_id</th>\n",
       "      <th>property_id</th>\n",
       "      <th>position</th>\n",
       "      <th>interaction</th>\n",
       "      <th>dorm_price</th>\n",
       "      <th>private_price</th>\n",
       "    </tr>\n",
       "  </thead>\n",
       "  <tbody>\n",
       "    <tr>\n",
       "      <th>0</th>\n",
       "      <td>29136</td>\n",
       "      <td>20789</td>\n",
       "      <td>7</td>\n",
       "      <td>CLICK</td>\n",
       "      <td>NaN</td>\n",
       "      <td>20.2</td>\n",
       "    </tr>\n",
       "    <tr>\n",
       "      <th>1</th>\n",
       "      <td>29136</td>\n",
       "      <td>11183</td>\n",
       "      <td>5</td>\n",
       "      <td>VIEW</td>\n",
       "      <td>NaN</td>\n",
       "      <td>6.3</td>\n",
       "    </tr>\n",
       "    <tr>\n",
       "      <th>2</th>\n",
       "      <td>29125</td>\n",
       "      <td>21590</td>\n",
       "      <td>12</td>\n",
       "      <td>VIEW</td>\n",
       "      <td>25.0</td>\n",
       "      <td>25.3</td>\n",
       "    </tr>\n",
       "    <tr>\n",
       "      <th>3</th>\n",
       "      <td>29125</td>\n",
       "      <td>15553</td>\n",
       "      <td>7</td>\n",
       "      <td>VIEW</td>\n",
       "      <td>15.9</td>\n",
       "      <td>24.0</td>\n",
       "    </tr>\n",
       "    <tr>\n",
       "      <th>4</th>\n",
       "      <td>29130</td>\n",
       "      <td>8990</td>\n",
       "      <td>7</td>\n",
       "      <td>VIEW</td>\n",
       "      <td>NaN</td>\n",
       "      <td>15.8</td>\n",
       "    </tr>\n",
       "  </tbody>\n",
       "</table>\n",
       "</div>"
      ],
      "text/plain": [
       "   query_id  property_id  position interaction  dorm_price  private_price\n",
       "0     29136        20789         7       CLICK         NaN           20.2\n",
       "1     29136        11183         5        VIEW         NaN            6.3\n",
       "2     29125        21590        12        VIEW        25.0           25.3\n",
       "3     29125        15553         7        VIEW        15.9           24.0\n",
       "4     29130         8990         7        VIEW         NaN           15.8"
      ]
     },
     "execution_count": 9,
     "metadata": {},
     "output_type": "execute_result"
    }
   ],
   "source": [
    "interactions.head()"
   ]
  },
  {
   "cell_type": "code",
   "execution_count": 14,
   "metadata": {},
   "outputs": [
    {
     "name": "stdout",
     "output_type": "stream",
     "text": [
      "<class 'pandas.core.frame.DataFrame'>\n",
      "RangeIndex: 5976498 entries, 0 to 5976497\n",
      "Data columns (total 6 columns):\n",
      " #   Column         Dtype  \n",
      "---  ------         -----  \n",
      " 0   query_id       int64  \n",
      " 1   property_id    int64  \n",
      " 2   position       int64  \n",
      " 3   interaction    object \n",
      " 4   dorm_price     float64\n",
      " 5   private_price  float64\n",
      "dtypes: float64(2), int64(3), object(1)\n",
      "memory usage: 273.6+ MB\n"
     ]
    }
   ],
   "source": [
    "interactions.info()"
   ]
  },
  {
   "cell_type": "code",
   "execution_count": 40,
   "metadata": {},
   "outputs": [
    {
     "data": {
      "text/plain": [
       "array(['CLICK', 'VIEW', 'BOOKING'], dtype=object)"
      ]
     },
     "execution_count": 40,
     "metadata": {},
     "output_type": "execute_result"
    }
   ],
   "source": [
    "interactions['interaction'].unique()"
   ]
  },
  {
   "cell_type": "code",
   "execution_count": 41,
   "metadata": {},
   "outputs": [
    {
     "data": {
      "text/plain": [
       "<AxesSubplot:>"
      ]
     },
     "execution_count": 41,
     "metadata": {},
     "output_type": "execute_result"
    },
    {
     "data": {
      "image/png": "[encoded data removed]",
      "text/plain": [
       "<Figure size 432x288 with 1 Axes>"
      ]
     },
     "metadata": {
      "needs_background": "light"
     },
     "output_type": "display_data"
    }
   ],
   "source": [
    "interactions['interaction'].value_counts().plot(kind='barh')"
   ]
  },
  {
   "cell_type": "code",
   "execution_count": 42,
   "metadata": {},
   "outputs": [
    {
     "data": {
      "text/plain": [
       "VIEW       0.901031\n",
       "CLICK      0.094922\n",
       "BOOKING    0.004047\n",
       "Name: interaction, dtype: float64"
      ]
     },
     "execution_count": 42,
     "metadata": {},
     "output_type": "execute_result"
    }
   ],
   "source": [
    "interactions['interaction'].value_counts()/len(interactions)"
   ]
  },
  {
   "cell_type": "code",
   "execution_count": null,
   "metadata": {},
   "outputs": [],
   "source": [
    "# Resources\n",
    "# lightgbm docs: https://lightgbm.readthedocs.io/en/latest/\n",
    "# nDCG: https://www.youtube.com/watch?v=qG0wUgsEugw\n",
    "# theory + lightgbm: https://mlexplained.com/2019/05/27/learning-to-rank-explained-with-code/\n",
    "# ranking as classification: https://towardsdatascience.com/learning-to-rank-with-python-scikit-learn-327a5cfd81f\n",
    "# lightgbm example: https://medium.com/@tacucumides/learning-to-rank-with-lightgbm-code-example-in-python-843bd7b44574\n",
    "# metrics: https://medium.com/swlh/rank-aware-recsys-evaluation-metrics-5191bba16832\n",
    "# metrics: https://stats.stackexchange.com/questions/159657/metrics-for-evaluating-ranking-algorithms\n",
    "# lecture on metrics: https://www.youtube.com/playlist?list=PLBv09BD7ez_6nqE9YU9bQXpjJ5jJ1Kgr9\n",
    "# paper: https://www.microsoft.com/en-us/research/publication/from-ranknet-to-lambdarank-to-lambdamart-an-overview/\n",
    "# NN based: https://dec0de.me/2014/10/learning-to-rank-1\n",
    "# https://prof.beuth-hochschule.de/fileadmin/prof/aloeser/shuaib_ltr_places_defence.pdf\n",
    "# https://everdark.github.io/k9/notebooks/ml/learning_to_rank/learning_to_rank.html\n",
    "# https://programmersought.com/article/41434702285/\n",
    "\n",
    "# Hours log\n",
    "# Saturday 15 - 20 = 5\n",
    "# Sunday 13 - 21 = 8\n",
    "# Friday 16 - 21 = 5\n",
    "# Total 18hs"
   ]
  }
 ],
 "metadata": {
  "kernelspec": {
   "display_name": "Python 3",
   "language": "python",
   "name": "python3"
  },
  "language_info": {
   "codemirror_mode": {
    "name": "ipython",
    "version": 3
   },
   "file_extension": ".py",
   "mimetype": "text/x-python",
   "name": "python",
   "nbconvert_exporter": "python",
   "pygments_lexer": "ipython3",
   "version": "3.6.8"
  }
 },
 "nbformat": 4,
 "nbformat_minor": 4
}
